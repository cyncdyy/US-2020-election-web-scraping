{
 "cells": [
  {
   "cell_type": "code",
   "execution_count": 837,
   "id": "f87ad9de",
   "metadata": {},
   "outputs": [],
   "source": [
    "import requests\n",
    "from bs4 import BeautifulSoup\n",
    "import pandas as pd"
   ]
  },
  {
   "cell_type": "code",
   "execution_count": 838,
   "id": "7a42d24d",
   "metadata": {},
   "outputs": [],
   "source": [
    "import selenium "
   ]
  },
  {
   "cell_type": "code",
   "execution_count": 839,
   "id": "2793c054",
   "metadata": {},
   "outputs": [],
   "source": [
    "from selenium import webdriver\n",
    "from selenium.webdriver.chrome.service import Service\n",
    "from webdriver_manager.chrome import ChromeDriverManager\n",
    "from selenium.webdriver.common.by import By\n",
    "from selenium.webdriver.common.keys import Keys"
   ]
  },
  {
   "cell_type": "code",
   "execution_count": 840,
   "id": "05cbcbd9",
   "metadata": {},
   "outputs": [],
   "source": [
    "# Import the URL of the required website\n",
    "election= \"https://www.politico.com/2022-election/results/\""
   ]
  },
  {
   "cell_type": "code",
   "execution_count": 841,
   "id": "f53bec63",
   "metadata": {},
   "outputs": [],
   "source": [
    "response = requests.get(election, timeout=10)  \n",
    "soup = BeautifulSoup(response.content, 'html.parser')"
   ]
  },
  {
   "cell_type": "code",
   "execution_count": 842,
   "id": "8198cee1",
   "metadata": {},
   "outputs": [
    {
     "data": {
      "text/plain": [
       "'House: GOP wins'"
      ]
     },
     "execution_count": 842,
     "metadata": {},
     "output_type": "execute_result"
    }
   ],
   "source": [
    "# Heading\n",
    "heading=soup.select(\"h2\")[1].get_text()\n",
    "heading"
   ]
  },
  {
   "cell_type": "code",
   "execution_count": 843,
   "id": "a9a38d81",
   "metadata": {
    "scrolled": true
   },
   "outputs": [
    {
     "name": "stdout",
     "output_type": "stream",
     "text": [
      "\n",
      "NewData\n",
      "Dems\n",
      "GOP\n",
      "Dec. 6, 2022 10:41 p.m. EST\n",
      "36 not up\n",
      "29 not up\n",
      "51\n",
      "49\n",
      "50 seats\n",
      "Scott Bland, Politics editor\n",
      "\n",
      "Scott Bland\n",
      ", Politics editor\n",
      "213\n",
      "221\n",
      "218 seats\n",
      "Steve Shepard, Politics editor\n",
      "\n",
      "Steve Shepard\n",
      ", Politics editor\n",
      "104.4 M\n",
      ": 114 M\n",
      ": 153.4 M\n",
      "Zach Montellaro, National political reporter\n",
      "\n",
      "Zach Montellaro\n",
      ", National political reporter\n",
      "Fetterman (D)\n",
      "Fetterman (D)\n",
      "Fetterman\n",
      "(D)\n",
      "Oz (R)\n",
      "Oz (R)\n",
      "Oz\n",
      "(R)\n",
      "Gerhardt (Libertarian Party)\n",
      "Gerhardt (Libertarian Party)\n",
      "Gerhardt\n",
      "(Libertarian Party)\n",
      "Other candidates\n",
      "99% of vote in\n",
      "99% of vote in\n",
      "99% of vote in\n",
      "Steve Shepard, Politics editor: \n",
      "\n",
      "Steve Shepard\n",
      ", Politics editor\n",
      "Collapse\n",
      "Warnock* (D)\n",
      "Warnock* (D)\n",
      "Warnock*\n",
      "(D)\n",
      "Walker (R)\n",
      "Walker (R)\n",
      "Walker\n",
      "(R)\n",
      "*Incumbent\n",
      "94% of vote in\n",
      "94% of vote in\n",
      "94% of vote in\n",
      "Why this race matters\n"
     ]
    }
   ],
   "source": [
    "# Preview of all span\n",
    "span=soup.select(\"span\")\n",
    "for i in span:\n",
    "    print(i.text)\n",
    "# Span[14:18] is the numbers we needed for the data scrapping"
   ]
  },
  {
   "cell_type": "code",
   "execution_count": 844,
   "id": "99e57f86",
   "metadata": {},
   "outputs": [],
   "source": [
    "DEM=soup.select(\"span\")[14].text\n",
    "GOP=soup.select(\"span\")[15].text\n",
    "total=soup.select(\"span\")[16].text\n",
    "author=soup.select(\"span\")[17].text\n"
   ]
  },
  {
   "cell_type": "code",
   "execution_count": 845,
   "id": "4e28961e",
   "metadata": {
    "scrolled": true
   },
   "outputs": [
    {
     "name": "stdout",
     "output_type": "stream",
     "text": [
      "Advertisement\n",
      "Last updated: Dec. 6, 2022 10:41 p.m. EST\n",
      "The Democrats held onto Georgia, meaning they protected every blue seat on the ballot this year - and then flipped Pennsylvania to expand the majority.\n",
      "Scott Bland, Politics editor\n",
      "Republicans have seized control of the House, but their smaller-than-expected margin means the chamber will be firmly up for grabs again in two years.\n",
      "Steve Shepard, Politics editor\n",
      "Advertisement\n",
      "Votes counted in 2022 U.S. House races so far\n",
      "104.4 M\n",
      "Total House votes counted in:\n",
      " ● 2018: 114 M\n",
      "114 M\n",
      "2020: 153.4 M ●\n",
      "153.4 M\n",
      "Senate seats called:\n",
      "35 out of 35\n",
      "House seats called:\n",
      "434 out of 435\n",
      "Most Americans will be led by _Democratic governors_. See full governor results »\n",
      "18 states with a total population of 148.1 million people will be led by Democratic governors.\n",
      "18 states with a total population of 109.8 million people will be led by Republican governors.\n",
      "14 states aren't electing a governor this year. In those states, 36.9 million people are led by Democrats and 31.1 million people are led by Republicans.\n",
      "Democrats picked up their third gubernatorial flip of the cycle in Arizona Monday night, where Democratic Secretary of State Katie Hobbs defeated Republican Kari Lake, a former TV anchor, for the state's open seat.\n",
      "Zach Montellaro, National political reporter\n",
      "Advertisement\n",
      "Steve Shepard, Politics editor: \n",
      "Pennsylvania was the nation's most-expensive Senate race of the cycle, as Republican Mehmet Oz mounted a late charge to overcome Democrat John Fetterman's lead.\n",
      "All polls have closed\n",
      "6:00 p.m. EST\n",
      "The earliest polls in the country close, which include the portions of Kentucky and Indiana that observe Eastern Time.\n",
      "\n",
      "States with polls closing: Indiana (some counties), Kentucky (some counties)\n",
      "7:00 p.m. EST\n",
      "A handful of states up and down the Eastern seaboard close, including the major battleground of Georgia. Some competitive House seats in Virginia and New Hampshire will also give an early glimpse at how the battle for the lower chamber is shaking out.\n",
      "\n",
      "States with polls closing: Georgia, Indiana, Kentucky, New Hampshire (some towns), South Carolina, Vermont, Virginia, Florida (some counties)\n",
      "Key races\n",
      "7:30 p.m. EST\n",
      "Three more states fully close, including Ohio, once a battleground and bellwether that has slipped away from Democrats in recent years, and North Carolina. Ohio's and North Carolina's Senate races are the biggest prizes this hour, along with some battleground House races.\n",
      "\n",
      "States with polls closing: New Hampshire (some towns), North Carolina, Ohio, West Virginia\n",
      "Key races\n",
      "8:00 p.m. EST\n",
      "The largest wave of states for the night closes, with the statewide races in Pennsylvania as the biggest contests. Democrats will also likely score victories in gubernatorial races in Maryland and Massachusetts, replacing two moderate Republicans in blue-leaning states, and Republicans will look to strengthen their hold on Florida. More key House battlegrounds also wrap up.\n",
      "\n",
      "States with polls closing: Alabama, Connecticut, Delaware, Florida (remaining counties), Illinois, Maine, Massachusetts, Maryland, Missouri, Mississippi, New Jersey, Oklahoma, Pennsylvania, Rhode Island, Tennessee, Kansas (some counties), Michigan (some counties), New Hampshire (remaining towns), North Dakota (some counties), South Dakota (some counties), Texas (some counties)\n",
      "Key races\n",
      "8:30 p.m. EST\n",
      "Polls close in Arkansas, a stalwart Republican state that will likely elect Sarah Huckabee Sanders — the former Trump White House press secretary — its next governor.\n",
      "\n",
      "States with polls closing: Arkansas\n",
      "Key races\n",
      "9:00 p.m. EST\n",
      "The second big wave of states wrap up voting, closing out major contests in Michigan, New York, Wisconsin and elsewhere. Competitive governor races are the highlight of the hour, along with the Senate race in Wisconsin that could determine control of the chamber.\n",
      "\n",
      "States with polls closing: Colorado, Iowa, Kansas (remaining counties), Louisiana, Michigan (remaining counties), Minnesota, Nebraska, New Mexico, New York, North Dakota (remaining counties), South Dakota (remaining counties), Texas (remaining counties), Wisconsin, Wyoming, Arizona (some counties)\n",
      "Key races\n",
      "10:00 p.m. EST\n",
      "Look to the west, where polls will fully close across Arizona and Nevada. Both states are home to major Senate and gubernatorial races that have both been among the most competitive of the cycle, along with a handful of House battlegrounds.\n",
      "\n",
      "States with polls closing: Arizona (remaining counties), Montana, Nevada, Utah, Idaho (some counties), Oregon (some counties)\n",
      "Key races\n",
      "11:00 p.m. EST\n",
      "The last polls in the \"lower 48\" close, with the West Coast calling it a night. Republicans are looking to make inroads, where there are no elected Republicans serving statewide on the country's contiguous western seaboard. California also hosts some big House races, but it's extremely unlikely final results will be known on Election Day.\n",
      "\n",
      "States with polls closing: California, Idaho (remaining counties), Oregon (remaining counties), Washington\n",
      "Key races\n",
      "12:00 a.m. EST\n",
      "Polls close in Hawaii and mainland Alaska, but other parts of the state still have an hour to go.\n",
      "\n",
      "States with polls closing: Alaska (some areas), Hawaii\n",
      "1:00 a.m. EST\n",
      "Election Day is over, with the final polling sites in Alaska fully closing. Alaska's uniqued ranked choice general election and its expansive geography means that election results won't be conclusive for quite some time.\n",
      "\n",
      "States with polls closing: Alaska (remaining areas)\n",
      "Key races\n",
      "Advertisement\n",
      "Contact our team at interactives@politico.com.\n",
      "Associated Press, Federal Election Commission, House of Representatives clerk’s office, MIT Election Data and Science Lab, U.S. Census Bureau\n",
      "Project lead: Allan James Vestal\n",
      "Editing: Andrew Briz, Andrew McGill, Lily Mihalik Bhandari, Allan James Vestal\n",
      "Design & engineering: Aaron Albright, Kai Elwood-Dieu, Paula Friedrich, Beatrice Jin, Rashida Kamal, Andrew Milligan\n",
      "Scott Bland, Annette Choi, Rishika Dugyala, Marissa Martinez, Zach Montellaro, Steve Shepard, Jessica Piper, Mackenzie Wilkes\n",
      "\n",
      "Terms of Service |\n",
      "      Privacy Policy |\n",
      "      Do not sell my info |\n",
      "      Notice to California Residents\n",
      "\n",
      " © 2022 POLITICO LLC\n"
     ]
    }
   ],
   "source": [
    "text=soup.select(\"p\")\n",
    "for i in text:\n",
    "    print(i.text)"
   ]
  },
  {
   "cell_type": "code",
   "execution_count": 846,
   "id": "43c43c1f",
   "metadata": {},
   "outputs": [
    {
     "data": {
      "text/plain": [
       "'Republicans have seized control of the House, but their smaller-than-expected margin means the chamber will be firmly up for grabs again in two years.'"
      ]
     },
     "execution_count": 846,
     "metadata": {},
     "output_type": "execute_result"
    }
   ],
   "source": [
    "comment=soup.select(\"p\")[4].get_text()\n",
    "comment"
   ]
  },
  {
   "cell_type": "code",
   "execution_count": 847,
   "id": "f7adbdb9",
   "metadata": {},
   "outputs": [
    {
     "name": "stdout",
     "output_type": "stream",
     "text": [
      "Heading: House: GOP wins \n",
      "Result of DEM: 213 \n",
      "Result of GOP: 221 \n",
      "Total Seat: 218 seats \n",
      "Comment: Republicans have seized control of the House, but their smaller-than-expected margin means the chamber will be firmly up for grabs again in two years. \n",
      "Author: Steve Shepard, Politics editor\n"
     ]
    }
   ],
   "source": [
    "print(\"Heading:\",heading,\n",
    "      \"\\nResult of DEM:\",DEM,\n",
    "      \"\\nResult of GOP:\",GOP,\n",
    "      \"\\nTotal Seat:\",total,\n",
    "      \"\\nComment:\",comment,\n",
    "      \"\\nAuthor:\",author)"
   ]
  },
  {
   "cell_type": "code",
   "execution_count": 848,
   "id": "8d70d099",
   "metadata": {},
   "outputs": [
    {
     "data": {
      "text/plain": [
       "[<a class=\"styles_link__0TfZs navbar-brand\" href=\"https://www.politico.com/\" target=\"_top\" title=\"POLITICO\"><span class=\"bt-icon bt-icon--politico styles_bt-icon--politico__83Zf1\"></span></a>,\n",
       " <a class=\"styles_link__0TfZs\" href=\"https://www.politico.com\"><svg enable-background=\"new 0 0 100 100\" height=\"20px\" version=\"1.1\" viewbox=\"0 0 100 100\" x=\"0px\" xml:space=\"preserve\" xmlns=\"http://www.w3.org/2000/svg\" y=\"0px\"><path d=\"M79.5,81.458h-57V41.27L51,16.729L79.5,41.27V81.458z M25.5,78.458h51V42.646L51,20.688L25.5,42.646V78.458z\"></path></svg></a>,\n",
       " <a class=\"styles_link__0TfZs styles_header-link__5MdWD styles_light__OeEPP\" href=\"https://www.politico.com/magazine/\" target=\"_top\">Magazine</a>,\n",
       " <a class=\"styles_header-link__5MdWD styles_light__OeEPP\" href=\"https://www.politicopro.com\" target=\"_top\">PRO</a>,\n",
       " <a class=\"styles_header-link__5MdWD styles_light__OeEPP\" href=\"https://www.eenews.net/\" target=\"_top\">E&amp;E News</a>,\n",
       " <a class=\"styles_root__3ecTj\" href=\"/2022-election/results/\"><div class=\"styles_logo-slide__PYvYc\"><div class=\"styles_logo-wrapper___c8iL\"><svg class=\"styles_container__6NYAC\" style=\"enable-background:new 0 0 560 283\" viewbox=\"0 0 560 283\" xml:space=\"preserve\" xmlns=\"http://www.w3.org/2000/svg\"><path d=\"M55.2 211.2h-25v13.5h23.6v17.8H30.2v13.9h25v17.8h-46v-80.9h46v17.9zm25.6-17.8v63.1H106v17.8H59.8v-80.9h21zm76.2 17.8h-25v13.5h23.6v17.8H132v13.9h25v17.8h-46v-80.9h46v17.9zm65.8 9.2c-4.9-5.9-10.9-8.9-18-8.9-3.1 0-6.1.6-8.7 1.7-2.7 1.1-5 2.7-6.9 4.7-1.9 2-3.5 4.3-4.6 7-1.1 2.7-1.7 5.6-1.7 8.8 0 3.2.6 6.2 1.7 8.9s2.6 5.1 4.6 7.1c2 2 4.3 3.6 6.9 4.7 2.6 1.1 5.5 1.7 8.6 1.7 6.7 0 12.8-2.9 18.1-8.6v24.9l-2.1.8c-3.2 1.1-6.2 2-9 2.5s-5.5.8-8.3.8c-5.6 0-10.9-1.1-16-3.2s-9.6-5.1-13.5-8.9c-3.9-3.8-7-8.4-9.4-13.6-2.4-5.3-3.5-11-3.5-17.2s1.2-11.9 3.5-17.1c2.3-5.2 5.4-9.7 9.3-13.4 3.9-3.8 8.4-6.7 13.6-8.8 5.1-2.1 10.5-3.2 16.2-3.2 3.2 0 6.4.3 9.5 1 3.1.7 6.4 1.7 9.8 3.2v25.1zm43-9.2v63.1h-21v-63.1h-17.3v-17.8h55.6v17.8h-17.3zm42.5-17.8v80.9h-21v-80.9h21zm4.2 40.4c0-6 1.1-11.6 3.3-16.8 2.2-5.2 5.3-9.7 9.2-13.6 3.9-3.9 8.6-6.9 14.1-9.1 5.5-2.2 11.5-3.3 18.1-3.3 6.5 0 12.5 1.1 18 3.3 5.5 2.2 10.2 5.2 14.2 9.1 4 3.9 7.1 8.4 9.3 13.6 2.2 5.2 3.3 10.8 3.3 16.8s-1.1 11.6-3.3 16.8c-2.2 5.2-5.3 9.7-9.3 13.6-4 3.9-8.7 6.9-14.2 9.1-5.5 2.2-11.5 3.3-18 3.3-6.6 0-12.6-1.1-18.1-3.3-5.5-2.2-10.2-5.2-14.1-9.1-3.9-3.9-7-8.4-9.2-13.6-2.2-5.2-3.3-10.8-3.3-16.8zm22 0c0 3.2.6 6.2 1.8 8.9 1.2 2.7 2.9 5.1 4.9 7.1 2.1 2 4.5 3.6 7.2 4.7 2.8 1.1 5.7 1.7 8.7 1.7s6-.6 8.7-1.7c2.8-1.1 5.2-2.7 7.3-4.7 2.1-2 3.8-4.4 5-7.1 1.2-2.7 1.8-5.7 1.8-8.9s-.6-6.2-1.8-8.9c-1.2-2.7-2.9-5.1-5-7.1s-4.5-3.6-7.3-4.7-5.7-1.7-8.7-1.7-6 .6-8.7 1.7c-2.8 1.1-5.2 2.7-7.2 4.7-2.1 2-3.7 4.4-4.9 7.1-1.2 2.7-1.8 5.7-1.8 8.9zm71.5 40.5v-80.9h21l38.8 49.4v-49.4h20.9v80.9h-20.9L427 224.8v49.4h-21zm134.4-60.2c-2.3-1.9-4.6-3.2-6.9-4.1-2.3-.9-4.5-1.3-6.6-1.3-2.7 0-4.9.6-6.6 1.9s-2.6 3-2.6 5c0 1.4.4 2.6 1.3 3.5.9.9 2 1.7 3.4 2.4s3 1.3 4.7 1.8c1.8.5 3.5 1 5.2 1.6 6.9 2.3 11.9 5.3 15.1 9.2 3.2 3.8 4.8 8.8 4.8 15 0 4.1-.7 7.9-2.1 11.3-1.4 3.4-3.4 6.2-6.1 8.6-2.7 2.4-6 4.3-9.9 5.6-3.9 1.3-8.3 2-13.2 2-10.2 0-19.7-3-28.4-9.1l9-16.9c3.1 2.8 6.3 4.9 9.3 6.2 3.1 1.4 6.1 2 9.1 2 3.4 0 6-.8 7.7-2.4 1.7-1.6 2.5-3.4 2.5-5.4 0-1.2-.2-2.3-.6-3.2-.4-.9-1.1-1.7-2.1-2.5s-2.3-1.4-3.9-2.1-3.6-1.4-5.8-2.1c-2.7-.9-5.4-1.8-8-2.8-2.6-1-4.9-2.4-7-4.1-2-1.7-3.7-3.9-4.9-6.5-1.3-2.6-1.9-5.9-1.9-9.9s.7-7.6 2-10.9c1.3-3.3 3.2-6 5.6-8.4 2.4-2.3 5.3-4.1 8.8-5.4 3.5-1.3 7.3-1.9 11.6-1.9 4 0 8.2.6 12.5 1.7 4.4 1.1 8.5 2.7 12.5 4.9l-8.5 16.3z\" style=\"enable-background:new\"></path><path d=\"M212.3 6.4c-47.5 0-86 38.5-86 86s38.5 86 86 86 86-38.5 86-86-38.5-86-86-86zm0 120.8c-19.2 0-34.8-15.6-34.8-34.8s15.6-34.8 34.8-34.8 34.8 15.6 34.8 34.8-15.6 34.8-34.8 34.8z\" style=\"fill:#fd5c41\"></path><path d=\"M106.4 102c7.8-8.5 14.4-14.6 16.8-22.5 2-6.4 4-13.2 4-21.6 0-10.4-3.3-19.6-8.3-27.5s-11.9-13.8-20.7-18S79.3 6.2 68 6.2s-20.8 2-29.7 6.1-16 10.1-21.2 18C12.5 37.2 9.9 45 9.3 54c0 .5 0 1-.1 1.4l47.2-.3 9-23.3L74 54.7h28.8l-22 15.8L90.3 97l-21-14.3-8.9 8.7-51.3 51.5v35.5l120.9.2-.2-40.9H72.2L97 111.4l9.4-9.4z\" style=\"fill:#fd5c41\"></path><path d=\"m495 137.5 24.8-26.3 9.2-9.3c7.8-8.5 13.7-14.8 16.8-22.5 2.9-7.1 4-13.2 4-21.6 0-10.4-3.3-19.6-8.3-27.5-5-7.8-11.9-13.8-20.7-18-8.8-4-18.8-6.1-30.1-6.1s-20.8 2-29.7 6.1c-8.9 4.1-16 10.1-21.2 18-4.8 7.2-7.4 15.5-7.8 25l47.5-.3s.3-.7 1-2.4c3.1-7.1 5.8-8.5 7.9-9.4 2.6-1.1 6.7-1.8 12.2-.5 5 1.2 8.7 5.4 8.7 12 .1 6.8-4.3 12.3-4.3 12.3-3.6 4.5-8.4 9.9-14.9 16.4l-7.1 7.8-51.2 51.4v35.5l120.8.2-.2-40.9-57.4.1zm-130 0 24.8-26.3 9.2-9.3c7.8-8.5 13.7-14.8 16.8-22.5 2.9-7.1 4-13.2 4-21.6 0-10.4-3.3-19.6-8.3-27.5-5-7.8-11.9-13.8-20.7-18-8.8-4.1-18.8-6.2-30.1-6.2s-20.8 2-29.7 6.1c-8.9 4.1-16 10.1-21.2 18-4.8 7.2-7.4 15.5-7.8 25l47.5-.3s.3-.7 1-2.4c3.1-7.1 5.8-8.5 7.9-9.4 2.6-1.1 6.7-1.8 12.2-.5 5 1.2 8.7 5.4 8.7 12 .1 6.8-4.3 12.3-4.3 12.3-3.6 4.5-8.4 9.9-14.9 16.4l-7.1 7.8-51.2 51.4V178l120.8.2-.2-40.9-57.4.2z\" style=\"fill:#3971c0\"></path></svg></div></div><div class=\"styles_new-data-slide__nfvUC\"><div class=\"styles_root___csnV\"><span>New<br/>Data</span></div></div></a>,\n",
       " <a class=\"styles_root__lFWnq\" href=\"/2022-election/results/senate/\"><div class=\"styles_root__Hylh9 styles_active__Ilkwf\"><div class=\"styles_title__tZgV_\">Sen.</div><div class=\"styles_root__QPB9o\"><span class=\"styles_text-dem__9lHJa\">Dems</span><div class=\"styles_check-wrapper__AZNVP\"><div class=\"styles_icon___SAS9 styles_size-medium__jN5c_\"><svg class=\"styles_icon-svg__E3DWA\" viewbox=\"0 0 24 19\"><path class=\"styles_fill-dem__YxFsr styles_stroke-dem__stVSt\" d=\"M8.36364 13.5128L3.94707 9.03035L3.59091 8.66887L3.23475 9.03035L1.64384 10.645L1.29807 10.9959L1.64384 11.3469L8.00747 17.8055L8.36364 18.1669L8.7198 17.8055L22.3562 3.96558L22.7019 3.61465L22.3562 3.26373L20.7653 1.64908L20.4091 1.2876L20.0529 1.64908L8.36364 13.5128Z\"></path></svg></div></div></div></div><div class=\"styles_root__S9Scj\"><div class=\"styles_segment__2AwMX styles_seated-d__hGvv6\" style=\"width:36%\"></div><div class=\"styles_segment__2AwMX styles_called-d__aHT8a\" style=\"width:15%\"></div><div class=\"styles_segment__2AwMX styles_remaining__7_Z4P\" style=\"width:0%\"></div><div class=\"styles_segment__2AwMX styles_called-r__Mv8KJ\" style=\"width:20%\"></div><div class=\"styles_segment__2AwMX styles_seated-r__hha7v\" style=\"width:28.999999999999996%\"></div></div><div class=\"styles_root__AOKon\"><div class=\"styles_number__vqilN styles_text-dem__8aiU_\">51</div><div class=\"styles_number__vqilN styles_remaining__w9y5j\">0</div><div class=\"styles_number__vqilN styles_text-gop__pJtnM\">49</div></div></a>,\n",
       " <a class=\"styles_root__lFWnq\" href=\"/2022-election/results/house/\"><div class=\"styles_root__Hylh9 styles_active__Ilkwf\"><div class=\"styles_title__tZgV_\">House</div><div class=\"styles_root__QPB9o\"><span class=\"styles_text-gop__3T2iV\">GOP</span><div class=\"styles_check-wrapper__AZNVP\"><div class=\"styles_icon___SAS9 styles_size-medium__jN5c_\"><svg class=\"styles_icon-svg__E3DWA\" viewbox=\"0 0 24 19\"><path class=\"styles_fill-gop___zCVM styles_stroke-gop__ghOI2\" d=\"M8.36364 13.5128L3.94707 9.03035L3.59091 8.66887L3.23475 9.03035L1.64384 10.645L1.29807 10.9959L1.64384 11.3469L8.00747 17.8055L8.36364 18.1669L8.7198 17.8055L22.3562 3.96558L22.7019 3.61465L22.3562 3.26373L20.7653 1.64908L20.4091 1.2876L20.0529 1.64908L8.36364 13.5128Z\"></path></svg></div></div></div></div><div class=\"styles_root__S9Scj\"><div class=\"styles_segment__2AwMX styles_seated-d__hGvv6\" style=\"width:0%\"></div><div class=\"styles_segment__2AwMX styles_called-d__aHT8a\" style=\"width:48.96551724137931%\"></div><div class=\"styles_segment__2AwMX styles_remaining__7_Z4P\" style=\"width:0.22988505747126436%\"></div><div class=\"styles_segment__2AwMX styles_called-r__Mv8KJ\" style=\"width:50.804597701149426%\"></div><div class=\"styles_segment__2AwMX styles_seated-r__hha7v\" style=\"width:0%\"></div></div><div class=\"styles_root__AOKon\"><div class=\"styles_number__vqilN styles_text-dem__8aiU_\">213</div><div class=\"styles_number__vqilN styles_remaining__w9y5j\">1</div><div class=\"styles_number__vqilN styles_text-gop__pJtnM\">221</div></div></a>,\n",
       " <a class=\"styles_container___xHip\" href=\"/2022-election/results/governor/\">See full governor results »</a>,\n",
       " <a class=\"styles_container__xylfW\" href=\"/2022-election/results/pennsylvania/senate/\"><h5 class=\"styles_is-standard__MbWww\"> U.S. Senator, Pennsylvania</h5></a>,\n",
       " <a class=\"styles_container__xylfW\" href=\"/2022-election/results/georgia/senate/\"><h5 class=\"styles_is-standard__MbWww\"> U.S. Senator, Georgia (Dec. 6 Runoff)</h5></a>,\n",
       " <a class=\"\" href=\"/2022-election/results/georgia/senate/\">Georgia Senate</a>,\n",
       " <a class=\"\" href=\"/2022-election/results/georgia/statewide-offices/\">Georgia Governor</a>,\n",
       " <a class=\"\" href=\"/2022-election/results/virginia/house/\">VA-02</a>,\n",
       " <a class=\"\" href=\"/2022-election/results/new-hampshire/house/\">NH-01</a>,\n",
       " <a class=\"\" href=\"/2022-election/results/ohio/senate/\">Ohio Senate</a>,\n",
       " <a class=\"\" href=\"/2022-election/results/north-carolina/senate/\">North Carolina Senate</a>,\n",
       " <a class=\"\" href=\"/2022-election/results/ohio/house/\">OH-09</a>,\n",
       " <a class=\"\" href=\"/2022-election/results/north-carolina/house/\">NC-13</a>,\n",
       " <a class=\"\" href=\"/2022-election/results/pennsylvania/senate/\">Pennsylvania Senate</a>,\n",
       " <a class=\"\" href=\"/2022-election/results/pennsylvania/statewide-offices/\">Pennsylvania Governor</a>,\n",
       " <a class=\"\" href=\"/2022-election/results/maryland/statewide-offices/\">Maryland Governor</a>,\n",
       " <a class=\"\" href=\"/2022-election/results/massachusetts/statewide-offices/\">Massachusetts Governor</a>,\n",
       " <a class=\"\" href=\"/2022-election/results/florida/senate/\">Florida Senate</a>,\n",
       " <a class=\"\" href=\"/2022-election/results/rhode-island/house/\">RI-02</a>,\n",
       " <a class=\"\" href=\"/2022-election/results/pennsylvania/house/\">PA-08</a>,\n",
       " <a class=\"\" href=\"/2022-election/results/maine/house/\">ME-02</a>,\n",
       " <a class=\"\" href=\"/2022-election/results/illinois/house/\">IL-17</a>,\n",
       " <a class=\"\" href=\"/2022-election/results/arkansas/statewide-offices/\">Arkansas Governor</a>,\n",
       " <a class=\"\" href=\"/2022-election/results/kansas/statewide-offices/\">Kansas Governor</a>,\n",
       " <a class=\"\" href=\"/2022-election/results/michigan/statewide-offices/\">Michigan Governor</a>,\n",
       " <a class=\"\" href=\"/2022-election/results/new-mexico/statewide-offices/\">New Mexico Governor</a>,\n",
       " <a class=\"\" href=\"/2022-election/results/new-york/statewide-offices/\">New York Governor</a>,\n",
       " <a class=\"\" href=\"/2022-election/results/wisconsin/statewide-offices/\">Wisconsin Governor</a>,\n",
       " <a class=\"\" href=\"/2022-election/results/colorado/house/\">CO-02</a>,\n",
       " <a class=\"\" href=\"/2022-election/results/wisconsin/senate/\">Wisconsin Senate</a>,\n",
       " <a class=\"\" href=\"/2022-election/results/iowa/house/\">IA-03</a>,\n",
       " <a class=\"\" href=\"/2022-election/results/nebraska/house/\">NE-02</a>,\n",
       " <a class=\"\" href=\"/2022-election/results/texas/house/\">TX-34</a>,\n",
       " <a class=\"\" href=\"/2022-election/results/arizona/senate/\">Arizona Senate</a>,\n",
       " <a class=\"\" href=\"/2022-election/results/arizona/statewide-offices/\">Arizona Governor</a>,\n",
       " <a class=\"\" href=\"/2022-election/results/nevada/senate/\">Nevada Senate</a>,\n",
       " <a class=\"\" href=\"/2022-election/results/nevada/statewide-offices/\">Nevada Governor</a>,\n",
       " <a class=\"\" href=\"/2022-election/results/utah/senate/\">Utah Senate</a>,\n",
       " <a class=\"\" href=\"/2022-election/results/arizona/house/\">AZ-06</a>,\n",
       " <a class=\"\" href=\"/2022-election/results/nevada/house/\">NV-03</a>,\n",
       " <a class=\"\" href=\"/2022-election/results/oregon/statewide-offices/\">Oregon Governor</a>,\n",
       " <a class=\"\" href=\"/2022-election/results/washington/senate/\">Washington Senate</a>,\n",
       " <a class=\"\" href=\"/2022-election/results/california/house/\">CA-22</a>,\n",
       " <a class=\"\" href=\"/2022-election/results/california/house/\">CA-27</a>,\n",
       " <a class=\"\" href=\"/2022-election/results/oregon/house/\">OR-05</a>,\n",
       " <a class=\"\" href=\"/2022-election/results/alaska/senate/\">Alaska Senate</a>,\n",
       " <a class=\"\" href=\"/2022-election/results/alaska/house/\">AK-AL</a>,\n",
       " <a class=\"styles_primary-link__h_qCF\" href=\"/2022-election/results/redistricting/\"><div class=\"styles_hed__FQyfk\">How redistricting is shaping Election Night</div><div class=\"styles_dek___cS4a\">Re-drawn congressional districts shuffled the seats in play. We’re watching who’s getting a boost.</div><div class=\"styles_icon-wrapper__p63Jk\"><div class=\"styles_icon___SAS9 styles_size-huge__WvllF\"><svg class=\"styles_icon-svg__E3DWA\" viewbox=\".35 0 20 20\"><path class=\"styles_fill-promo-yellow__AjD72 styles_stroke-promo-yellow__ShuLH\" d=\"M8.46308 1.48301L1.3713 8.85937C0.61158 9.64958 0.629503 10.9041 1.41149 11.6723L8.50282 18.6384C9.27473 19.3967 10.5097 19.4035 11.29 18.6539L18.5412 11.6873C19.3441 10.9158 19.3624 9.63709 18.5818 8.843L11.3311 1.46709C10.5413 0.663611 9.24394 0.670815 8.46308 1.48301Z\"></path></svg></div></div></a>,\n",
       " <a class=\"styles_primary-link__h_qCF\" href=\"/2022-election/results/trump-candidates-endorsements-11-8-22/\"><div class=\"styles_hed__FQyfk\">Donald Trump’s personal midterm scorecard</div><div class=\"styles_dek___cS4a\">Are followers of “Trumpism” winning their elections? We have a live tally.</div><div class=\"styles_icon-wrapper__p63Jk\"><div class=\"styles_icon___SAS9 styles_size-huge__WvllF\"><svg class=\"styles_icon-svg__E3DWA\" viewbox=\".35 0 20 20\"><path class=\"styles_fill-promo-red__n_lsy styles_stroke-promo-red__1Dosb\" d=\"M8.46308 1.48301L1.3713 8.85937C0.61158 9.64958 0.629503 10.9041 1.41149 11.6723L8.50282 18.6384C9.27473 19.3967 10.5097 19.4035 11.29 18.6539L18.5412 11.6873C19.3441 10.9158 19.3624 9.63709 18.5818 8.843L11.3311 1.46709C10.5413 0.663611 9.24394 0.670815 8.46308 1.48301Z\"></path></svg></div></div></a>,\n",
       " <a class=\"styles_secondary-link__UWNpK\" href=\"/2022-election/results/poll-closing-times-11-8-22/\"><div><div class=\"styles_hed__4QVzN\"><strong>How and when states vote on Nov. 8</strong></div><div class=\"styles_dek__R9pJI\">Our list of voting laws and poll closing times in every state.</div></div></a>,\n",
       " <a class=\"styles_secondary-link__UWNpK\" href=\"/2022-election/results/governor/\"><div><div class=\"styles_hed__4QVzN\"><strong>Nationwide governors results</strong></div><div class=\"styles_dek__R9pJI\">How races for each state's highest office are shaking out.</div></div></a>,\n",
       " <a class=\"styles_secondary-link__UWNpK\" href=\"/2022-election/results/ballot-measures/\"><div><div class=\"styles_hed__4QVzN\"><strong>Ballot measures across the country</strong></div><div class=\"styles_dek__R9pJI\">As power shifts to the states, voter referendums matter more than ever. We’re tracking them all.</div></div></a>,\n",
       " <a class=\"styles_secondary-link__UWNpK\" href=\"/2022-election/results/senate-race-calls-by-tv-network/\"><div><div class=\"styles_hed__4QVzN\"><strong>U.S. Senate race calls</strong></div><div class=\"styles_dek__R9pJI\">We're watching every cable network to mark when they call a race for a Senate candidate.</div></div></a>,\n",
       " <a class=\"styles_is-mobile__c1oGv\" href=\"/2022-election/results/alabama/\">Alabama</a>,\n",
       " <a class=\"styles_is-mobile__c1oGv\" href=\"/2022-election/results/alaska/\">Alaska</a>,\n",
       " <a class=\"styles_is-mobile__c1oGv\" href=\"/2022-election/results/arizona/\">Arizona</a>,\n",
       " <a class=\"styles_is-mobile__c1oGv\" href=\"/2022-election/results/arkansas/\">Arkansas</a>,\n",
       " <a class=\"styles_is-mobile__c1oGv\" href=\"/2022-election/results/california/\">California</a>,\n",
       " <a class=\"styles_is-mobile__c1oGv\" href=\"/2022-election/results/colorado/\">Colorado</a>,\n",
       " <a class=\"styles_is-mobile__c1oGv\" href=\"/2022-election/results/connecticut/\">Connecticut</a>,\n",
       " <a class=\"styles_is-mobile__c1oGv\" href=\"/2022-election/results/delaware/\">Delaware</a>,\n",
       " <a class=\"styles_is-mobile__c1oGv\" href=\"/2022-election/results/florida/\">Florida</a>,\n",
       " <a class=\"styles_is-mobile__c1oGv\" href=\"/2022-election/results/georgia/\">Georgia</a>,\n",
       " <a class=\"styles_is-mobile__c1oGv\" href=\"/2022-election/results/hawaii/\">Hawaii</a>,\n",
       " <a class=\"styles_is-mobile__c1oGv\" href=\"/2022-election/results/idaho/\">Idaho</a>,\n",
       " <a class=\"styles_is-mobile__c1oGv\" href=\"/2022-election/results/illinois/\">Illinois</a>,\n",
       " <a class=\"styles_is-mobile__c1oGv\" href=\"/2022-election/results/indiana/\">Indiana</a>,\n",
       " <a class=\"styles_is-mobile__c1oGv\" href=\"/2022-election/results/iowa/\">Iowa</a>,\n",
       " <a class=\"styles_is-mobile__c1oGv\" href=\"/2022-election/results/kansas/\">Kansas</a>,\n",
       " <a class=\"styles_is-mobile__c1oGv\" href=\"/2022-election/results/kentucky/\">Kentucky</a>,\n",
       " <a class=\"styles_is-mobile__c1oGv\" href=\"/2022-election/results/louisiana/\">Louisiana</a>,\n",
       " <a class=\"styles_is-mobile__c1oGv\" href=\"/2022-election/results/maine/\">Maine</a>,\n",
       " <a class=\"styles_is-mobile__c1oGv\" href=\"/2022-election/results/maryland/\">Maryland</a>,\n",
       " <a class=\"styles_is-mobile__c1oGv\" href=\"/2022-election/results/massachusetts/\">Massachusetts</a>,\n",
       " <a class=\"styles_is-mobile__c1oGv\" href=\"/2022-election/results/michigan/\">Michigan</a>,\n",
       " <a class=\"styles_is-mobile__c1oGv\" href=\"/2022-election/results/minnesota/\">Minnesota</a>,\n",
       " <a class=\"styles_is-mobile__c1oGv\" href=\"/2022-election/results/mississippi/\">Mississippi</a>,\n",
       " <a class=\"styles_is-mobile__c1oGv\" href=\"/2022-election/results/missouri/\">Missouri</a>,\n",
       " <a class=\"styles_is-mobile__c1oGv\" href=\"/2022-election/results/montana/\">Montana</a>,\n",
       " <a class=\"styles_is-mobile__c1oGv\" href=\"/2022-election/results/nebraska/\">Nebraska</a>,\n",
       " <a class=\"styles_is-mobile__c1oGv\" href=\"/2022-election/results/nevada/\">Nevada</a>,\n",
       " <a class=\"styles_is-mobile__c1oGv\" href=\"/2022-election/results/new-hampshire/\">New Hampshire</a>,\n",
       " <a class=\"styles_is-mobile__c1oGv\" href=\"/2022-election/results/new-jersey/\">New Jersey</a>,\n",
       " <a class=\"styles_is-mobile__c1oGv\" href=\"/2022-election/results/new-mexico/\">New Mexico</a>,\n",
       " <a class=\"styles_is-mobile__c1oGv\" href=\"/2022-election/results/new-york/\">New York</a>,\n",
       " <a class=\"styles_is-mobile__c1oGv\" href=\"/2022-election/results/north-carolina/\">North Carolina</a>,\n",
       " <a class=\"styles_is-mobile__c1oGv\" href=\"/2022-election/results/north-dakota/\">North Dakota</a>,\n",
       " <a class=\"styles_is-mobile__c1oGv\" href=\"/2022-election/results/ohio/\">Ohio</a>,\n",
       " <a class=\"styles_is-mobile__c1oGv\" href=\"/2022-election/results/oklahoma/\">Oklahoma</a>,\n",
       " <a class=\"styles_is-mobile__c1oGv\" href=\"/2022-election/results/oregon/\">Oregon</a>,\n",
       " <a class=\"styles_is-mobile__c1oGv\" href=\"/2022-election/results/pennsylvania/\">Pennsylvania</a>,\n",
       " <a class=\"styles_is-mobile__c1oGv\" href=\"/2022-election/results/rhode-island/\">Rhode Island</a>,\n",
       " <a class=\"styles_is-mobile__c1oGv\" href=\"/2022-election/results/south-carolina/\">South Carolina</a>,\n",
       " <a class=\"styles_is-mobile__c1oGv\" href=\"/2022-election/results/south-dakota/\">South Dakota</a>,\n",
       " <a class=\"styles_is-mobile__c1oGv\" href=\"/2022-election/results/tennessee/\">Tennessee</a>,\n",
       " <a class=\"styles_is-mobile__c1oGv\" href=\"/2022-election/results/texas/\">Texas</a>,\n",
       " <a class=\"styles_is-mobile__c1oGv\" href=\"/2022-election/results/utah/\">Utah</a>,\n",
       " <a class=\"styles_is-mobile__c1oGv\" href=\"/2022-election/results/vermont/\">Vermont</a>,\n",
       " <a class=\"styles_is-mobile__c1oGv\" href=\"/2022-election/results/virginia/\">Virginia</a>,\n",
       " <a class=\"styles_is-mobile__c1oGv\" href=\"/2022-election/results/washington/\">Washington</a>,\n",
       " <a class=\"styles_is-mobile__c1oGv\" href=\"/2022-election/results/west-virginia/\">West Virginia</a>,\n",
       " <a class=\"styles_is-mobile__c1oGv\" href=\"/2022-election/results/wisconsin/\">Wisconsin</a>,\n",
       " <a class=\"styles_is-mobile__c1oGv\" href=\"/2022-election/results/wyoming/\">Wyoming</a>,\n",
       " <a class=\"styles_link__2ZWpW\" href=\"mailto:interactives@politico.com\">interactives@politico.com</a>,\n",
       " <a class=\"styles_link__2ZWpW\" href=\"https://www.politico.com/terms-of-service\">Terms of Service</a>,\n",
       " <a class=\"styles_link__2ZWpW\" href=\"https://www.politico.com/privacy-policy\">Privacy Policy</a>,\n",
       " <a class=\"styles_link__2ZWpW\" href=\"https://www.politico.com/do-not-sell\">Do not sell my info</a>,\n",
       " <a class=\"styles_link__2ZWpW\" href=\"https://www.politico.com/privacy#california\">Notice to California Residents</a>]"
      ]
     },
     "execution_count": 848,
     "metadata": {},
     "output_type": "execute_result"
    }
   ],
   "source": [
    "soup.find_all(\"a\")\n",
    "# We could see the class of the states is styles_is-mobile__c1oGv"
   ]
  },
  {
   "cell_type": "code",
   "execution_count": 849,
   "id": "5595554d",
   "metadata": {},
   "outputs": [
    {
     "data": {
      "text/plain": [
       "[<div class=\"styles_column__Twooh styles_is-mobile__c1oGv\"><a class=\"styles_is-mobile__c1oGv\" href=\"/2022-election/results/alabama/\">Alabama</a><a class=\"styles_is-mobile__c1oGv\" href=\"/2022-election/results/alaska/\">Alaska</a><a class=\"styles_is-mobile__c1oGv\" href=\"/2022-election/results/arizona/\">Arizona</a><a class=\"styles_is-mobile__c1oGv\" href=\"/2022-election/results/arkansas/\">Arkansas</a><a class=\"styles_is-mobile__c1oGv\" href=\"/2022-election/results/california/\">California</a><a class=\"styles_is-mobile__c1oGv\" href=\"/2022-election/results/colorado/\">Colorado</a><a class=\"styles_is-mobile__c1oGv\" href=\"/2022-election/results/connecticut/\">Connecticut</a><a class=\"styles_is-mobile__c1oGv\" href=\"/2022-election/results/delaware/\">Delaware</a><a class=\"styles_is-mobile__c1oGv\" href=\"/2022-election/results/florida/\">Florida</a><a class=\"styles_is-mobile__c1oGv\" href=\"/2022-election/results/georgia/\">Georgia</a><a class=\"styles_is-mobile__c1oGv\" href=\"/2022-election/results/hawaii/\">Hawaii</a><a class=\"styles_is-mobile__c1oGv\" href=\"/2022-election/results/idaho/\">Idaho</a><a class=\"styles_is-mobile__c1oGv\" href=\"/2022-election/results/illinois/\">Illinois</a><a class=\"styles_is-mobile__c1oGv\" href=\"/2022-election/results/indiana/\">Indiana</a><a class=\"styles_is-mobile__c1oGv\" href=\"/2022-election/results/iowa/\">Iowa</a><a class=\"styles_is-mobile__c1oGv\" href=\"/2022-election/results/kansas/\">Kansas</a><a class=\"styles_is-mobile__c1oGv\" href=\"/2022-election/results/kentucky/\">Kentucky</a></div>,\n",
       " <div class=\"styles_column__Twooh styles_is-mobile__c1oGv\"><a class=\"styles_is-mobile__c1oGv\" href=\"/2022-election/results/louisiana/\">Louisiana</a><a class=\"styles_is-mobile__c1oGv\" href=\"/2022-election/results/maine/\">Maine</a><a class=\"styles_is-mobile__c1oGv\" href=\"/2022-election/results/maryland/\">Maryland</a><a class=\"styles_is-mobile__c1oGv\" href=\"/2022-election/results/massachusetts/\">Massachusetts</a><a class=\"styles_is-mobile__c1oGv\" href=\"/2022-election/results/michigan/\">Michigan</a><a class=\"styles_is-mobile__c1oGv\" href=\"/2022-election/results/minnesota/\">Minnesota</a><a class=\"styles_is-mobile__c1oGv\" href=\"/2022-election/results/mississippi/\">Mississippi</a><a class=\"styles_is-mobile__c1oGv\" href=\"/2022-election/results/missouri/\">Missouri</a><a class=\"styles_is-mobile__c1oGv\" href=\"/2022-election/results/montana/\">Montana</a><a class=\"styles_is-mobile__c1oGv\" href=\"/2022-election/results/nebraska/\">Nebraska</a><a class=\"styles_is-mobile__c1oGv\" href=\"/2022-election/results/nevada/\">Nevada</a><a class=\"styles_is-mobile__c1oGv\" href=\"/2022-election/results/new-hampshire/\">New Hampshire</a><a class=\"styles_is-mobile__c1oGv\" href=\"/2022-election/results/new-jersey/\">New Jersey</a><a class=\"styles_is-mobile__c1oGv\" href=\"/2022-election/results/new-mexico/\">New Mexico</a><a class=\"styles_is-mobile__c1oGv\" href=\"/2022-election/results/new-york/\">New York</a><a class=\"styles_is-mobile__c1oGv\" href=\"/2022-election/results/north-carolina/\">North Carolina</a><a class=\"styles_is-mobile__c1oGv\" href=\"/2022-election/results/north-dakota/\">North Dakota</a></div>,\n",
       " <div class=\"styles_column__Twooh styles_is-mobile__c1oGv\"><a class=\"styles_is-mobile__c1oGv\" href=\"/2022-election/results/ohio/\">Ohio</a><a class=\"styles_is-mobile__c1oGv\" href=\"/2022-election/results/oklahoma/\">Oklahoma</a><a class=\"styles_is-mobile__c1oGv\" href=\"/2022-election/results/oregon/\">Oregon</a><a class=\"styles_is-mobile__c1oGv\" href=\"/2022-election/results/pennsylvania/\">Pennsylvania</a><a class=\"styles_is-mobile__c1oGv\" href=\"/2022-election/results/rhode-island/\">Rhode Island</a><a class=\"styles_is-mobile__c1oGv\" href=\"/2022-election/results/south-carolina/\">South Carolina</a><a class=\"styles_is-mobile__c1oGv\" href=\"/2022-election/results/south-dakota/\">South Dakota</a><a class=\"styles_is-mobile__c1oGv\" href=\"/2022-election/results/tennessee/\">Tennessee</a><a class=\"styles_is-mobile__c1oGv\" href=\"/2022-election/results/texas/\">Texas</a><a class=\"styles_is-mobile__c1oGv\" href=\"/2022-election/results/utah/\">Utah</a><a class=\"styles_is-mobile__c1oGv\" href=\"/2022-election/results/vermont/\">Vermont</a><a class=\"styles_is-mobile__c1oGv\" href=\"/2022-election/results/virginia/\">Virginia</a><a class=\"styles_is-mobile__c1oGv\" href=\"/2022-election/results/washington/\">Washington</a><a class=\"styles_is-mobile__c1oGv\" href=\"/2022-election/results/west-virginia/\">West Virginia</a><a class=\"styles_is-mobile__c1oGv\" href=\"/2022-election/results/wisconsin/\">Wisconsin</a><a class=\"styles_is-mobile__c1oGv\" href=\"/2022-election/results/wyoming/\">Wyoming</a></div>]"
      ]
     },
     "execution_count": 849,
     "metadata": {},
     "output_type": "execute_result"
    }
   ],
   "source": [
    "soup.find_all('div', {'class': 'styles_column__Twooh styles_is-mobile__c1oGv'})"
   ]
  },
  {
   "cell_type": "markdown",
   "id": "6cceeb2c",
   "metadata": {},
   "source": [
    "# Create state list"
   ]
  },
  {
   "cell_type": "code",
   "execution_count": 850,
   "id": "09b9c3b9",
   "metadata": {},
   "outputs": [
    {
     "name": "stdout",
     "output_type": "stream",
     "text": [
      "['Alabama', 'Alaska', 'Arizona', 'Arkansas', 'California', 'Colorado', 'Connecticut', 'Delaware', 'Florida', 'Georgia', 'Hawaii', 'Idaho', 'Illinois', 'Indiana', 'Iowa', 'Kansas', 'Kentucky', 'Louisiana', 'Maine', 'Maryland', 'Massachusetts', 'Michigan', 'Minnesota', 'Mississippi', 'Missouri', 'Montana', 'Nebraska', 'Nevada', 'New Hampshire', 'New Jersey', 'New Mexico', 'New York', 'North Carolina', 'North Dakota', 'Ohio', 'Oklahoma', 'Oregon', 'Pennsylvania', 'Rhode Island', 'South Carolina', 'South Dakota', 'Tennessee', 'Texas', 'Utah', 'Vermont', 'Virginia', 'Washington', 'West Virginia', 'Wisconsin', 'Wyoming']\n"
     ]
    }
   ],
   "source": [
    "# state list \n",
    "states=soup.find_all('div', {'class': 'styles_column__Twooh styles_is-mobile__c1oGv'})\n",
    "state_list=[]\n",
    "for state in states:\n",
    "    text = state.a.get_text(strip=True)\n",
    "    for i in state:\n",
    "        state_list.append(i.get_text(strip=True))\n",
    "print(state_list)"
   ]
  },
  {
   "cell_type": "code",
   "execution_count": 851,
   "id": "a69d7d4a",
   "metadata": {},
   "outputs": [
    {
     "data": {
      "text/plain": [
       "50"
      ]
     },
     "execution_count": 851,
     "metadata": {},
     "output_type": "execute_result"
    }
   ],
   "source": [
    "len(state_list)"
   ]
  },
  {
   "cell_type": "code",
   "execution_count": 853,
   "id": "18a341f2",
   "metadata": {},
   "outputs": [],
   "source": [
    "# Alabama \n",
    "s = Service(ChromeDriverManager().install())\n",
    "driver = webdriver.Chrome(service=s)\n",
    "response=driver.get(state_url[0])"
   ]
  },
  {
   "cell_type": "code",
   "execution_count": null,
   "id": "55fc413c",
   "metadata": {},
   "outputs": [],
   "source": [
    "soup_alabama=BeautifulSoup(driver.page_source, 'html.parser')"
   ]
  },
  {
   "cell_type": "code",
   "execution_count": null,
   "id": "96f5b1b3",
   "metadata": {},
   "outputs": [],
   "source": [
    "loadmore_button = driver.find_element(By.CLASS_NAME,\"styles_container__C5E_O\")\n",
    "loadmore_button.click()"
   ]
  },
  {
   "cell_type": "code",
   "execution_count": null,
   "id": "a1b5182f",
   "metadata": {},
   "outputs": [],
   "source": [
    "# Country Code\n",
    "\n",
    "code_ala=[]\n",
    "                                                                                                                             \n",
    "for i in range(len(candidate_ls)):\n",
    "    code_ala.append(ala)                                                                                                                          \n",
    "code_ala"
   ]
  },
  {
   "cell_type": "code",
   "execution_count": null,
   "id": "5aa9a358",
   "metadata": {},
   "outputs": [],
   "source": [
    "ala=soup_alabama.find(\"p\",{\"class\":\"styles_district-number__5i_rg styles_is-desktop__wW1cu styles_large__NZx5H\"}).text[:2]\n",
    "ala"
   ]
  },
  {
   "cell_type": "code",
   "execution_count": null,
   "id": "fae7969d",
   "metadata": {},
   "outputs": [],
   "source": [
    "# District code\n",
    "districts=soup_alabama.find_all(\"h5\",{\"class\":\"styles_is-table__D_lzx styles_is-desktop__4Cq7X\"})\n",
    "district_ala=[]\n",
    "for district in districts:\n",
    "    district_ala.append(district.get_text())\n",
    "district_ala"
   ]
  },
  {
   "cell_type": "code",
   "execution_count": null,
   "id": "11c26cd6",
   "metadata": {},
   "outputs": [],
   "source": [
    "data = soup_alabama.find_all('div', {'class':'styles_left-title__rNUfI'})\n",
    "spans = soup_alabama.find_all('span')\n",
    "text_list=[]\n",
    "for result in data:\n",
    "    spans = result.find_all('span',class_=False)\n",
    "    for span in spans:\n",
    "        text_list.append(span.text)\n",
    "text_list"
   ]
  },
  {
   "cell_type": "code",
   "execution_count": null,
   "id": "21e18dd2",
   "metadata": {},
   "outputs": [],
   "source": [
    "candidate_ls=[]\n",
    "for i in text_list:\n",
    "    if \"%\" not in i:\n",
    "         candidate_ls.append(i) \n",
    "candidate_ls\n",
    "len(candidate_ls)"
   ]
  },
  {
   "cell_type": "code",
   "execution_count": null,
   "id": "ad2f6b18",
   "metadata": {},
   "outputs": [],
   "source": [
    "soup_alabama.find_all(\"a\")"
   ]
  },
  {
   "cell_type": "code",
   "execution_count": null,
   "id": "d375f4ae",
   "metadata": {},
   "outputs": [],
   "source": [
    "candidate_ls"
   ]
  },
  {
   "cell_type": "code",
   "execution_count": null,
   "id": "10bb81dc",
   "metadata": {},
   "outputs": [],
   "source": [
    "# Party list\n",
    "party_ls=[]\n",
    "for i in candidate_ls:\n",
    "    if \"(R\" in i:\n",
    "        party_ls.append(\"Republican\")\n",
    "    elif \"Libertarian Party\" in i:\n",
    "        party_ls.append(\"Libertarian Party\")\n",
    "    elif \"(D\" in i:\n",
    "        party_ls.append(\"Democratic\")\n",
    "    else:\n",
    "        party_ls.append(\"N/A\")\n",
    "party_ls"
   ]
  },
  {
   "cell_type": "code",
   "execution_count": null,
   "id": "4c064e70",
   "metadata": {},
   "outputs": [],
   "source": [
    "# Incumbent \n",
    "incumbent=[]\n",
    "for i in candidate_ls:\n",
    "    if \"*\" in i:\n",
    "        incumbent.append(\"Incumbent\")\n",
    "    else:\n",
    "        incumbent.append(\"/\")\n",
    "incumbent"
   ]
  },
  {
   "cell_type": "code",
   "execution_count": null,
   "id": "4c750e54",
   "metadata": {},
   "outputs": [],
   "source": [
    "# candidate name list\n",
    "candidate_name_ls=[]\n",
    "for i in candidate_ls:\n",
    "    candidate_name_ls.append(i.split(\" (\")[0].replace(\"*\",\"\"))"
   ]
  },
  {
   "cell_type": "code",
   "execution_count": null,
   "id": "e267beeb",
   "metadata": {},
   "outputs": [],
   "source": [
    "candidate_name_ls"
   ]
  },
  {
   "cell_type": "code",
   "execution_count": null,
   "id": "8181a501",
   "metadata": {},
   "outputs": [],
   "source": [
    "# Vote list\n",
    "vote=soup_alabama.find_all(\"td\",{\"class\":\"styles_container__MY5SI styles_is-table-standard__hQBdN styles_is-table__r1_IW styles_is-desktop__BnEze\"})\n",
    "vote_ls=[]\n",
    "for i in vote:\n",
    "    vote_ls.append(i.text)\n",
    "vote_ls"
   ]
  },
  {
   "cell_type": "code",
   "execution_count": null,
   "id": "16aac589",
   "metadata": {},
   "outputs": [],
   "source": [
    "percentage=soup_alabama.find_all(\"td\",{\"class\":\"styles_container__vzwvV styles_is-table__HG_oS\"})\n",
    "percentage_ls=[]\n",
    "for i in percentage:\n",
    "    percentage_ls.append(i.text)\n",
    "percentage_ls"
   ]
  },
  {
   "cell_type": "code",
   "execution_count": null,
   "id": "0d1ae0cd",
   "metadata": {},
   "outputs": [],
   "source": [
    "# State\n",
    "state=[]\n",
    "for i in range(len(candidate_ls)):\n",
    "    state.append(\"Alabama\")\n",
    "state"
   ]
  },
  {
   "cell_type": "code",
   "execution_count": null,
   "id": "e056841c",
   "metadata": {},
   "outputs": [],
   "source": [
    "soup_alabama.find_all(\"div\")       "
   ]
  },
  {
   "cell_type": "code",
   "execution_count": null,
   "id": "9ee2fcfd",
   "metadata": {},
   "outputs": [],
   "source": [
    "# List out all winning candidate\n",
    "dem_win_ls=[]\n",
    "dem_win=soup_alabama.find_all(\"span\",{\"class\":\"styles_highlighted__YhtNx styles_contrast-dem__WYCAC\"})\n",
    "for i in dem_win:\n",
    "    dem_win_ls.append(i.text)\n",
    "dem_win_ls"
   ]
  },
  {
   "cell_type": "code",
   "execution_count": null,
   "id": "1fcc17ae",
   "metadata": {},
   "outputs": [],
   "source": [
    "gop_win_ls=[]\n",
    "gop_win=soup_alabama.find_all(\"span\",{\"class\":\"styles_highlighted__YhtNx styles_contrast-gop__2dV83\"})\n",
    "for i in gop_win:\n",
    "    gop_win_ls.append(i.text)\n",
    "gop_win_ls"
   ]
  },
  {
   "cell_type": "code",
   "execution_count": null,
   "id": "5b71a705",
   "metadata": {},
   "outputs": [],
   "source": [
    "candidate_ls"
   ]
  },
  {
   "cell_type": "code",
   "execution_count": null,
   "id": "411960c3",
   "metadata": {},
   "outputs": [],
   "source": [
    "win_ls=gop_win_ls+dem_win_ls\n",
    "win_name_ls=[]\n",
    "for i in win_ls:\n",
    "    win_name_ls.append(i.split(\" (\")[0].replace(\"*\",\"\"))\n",
    "win_name_ls"
   ]
  },
  {
   "cell_type": "code",
   "execution_count": null,
   "id": "55fe5fc0",
   "metadata": {},
   "outputs": [],
   "source": [
    "district_ala"
   ]
  },
  {
   "cell_type": "code",
   "execution_count": null,
   "id": "a9cef76f",
   "metadata": {},
   "outputs": [],
   "source": [
    "candidate_name_ls"
   ]
  },
  {
   "cell_type": "code",
   "execution_count": null,
   "id": "1ddc7ebb",
   "metadata": {},
   "outputs": [],
   "source": [
    "# district list \n",
    "h=[i in win_name_ls for i in candidate_name_ls]\n",
    "final_ls=[district_ala[sum(h[:i+1])-1] for i in range(len(candidate_name_ls))]\n",
    "final_ls\n",
    "len(final_ls)"
   ]
  },
  {
   "cell_type": "code",
   "execution_count": null,
   "id": "9157ac13",
   "metadata": {},
   "outputs": [],
   "source": [
    "print(h)"
   ]
  },
  {
   "cell_type": "code",
   "execution_count": null,
   "id": "380cb324",
   "metadata": {},
   "outputs": [],
   "source": [
    "candidate_ls"
   ]
  },
  {
   "cell_type": "code",
   "execution_count": null,
   "id": "c354bdb2",
   "metadata": {
    "scrolled": true
   },
   "outputs": [],
   "source": [
    "# state url list\n",
    "state_url=[]\n",
    "for state in state_list:\n",
    "    state_url.append(\"https://www.politico.com/2022-election/results/\"+state.lower()+\"/house\")\n",
    "state_url\n"
   ]
  },
  {
   "cell_type": "code",
   "execution_count": null,
   "id": "5aec8464",
   "metadata": {},
   "outputs": [],
   "source": [
    "state_to_abbreviation = {\n",
    "    'Alabama': 'AL',\n",
    "    'Alaska': 'AK',\n",
    "    'Arizona': 'AZ',\n",
    "    'Arkansas': 'AR',\n",
    "    'California': 'CA',\n",
    "    'Colorado': 'CO',\n",
    "    'Connecticut': 'CT',\n",
    "    'Delaware': 'DE',\n",
    "    'Florida': 'FL',\n",
    "    'Georgia': 'GA',\n",
    "    'Hawaii': 'HI',\n",
    "    'Idaho': 'ID',\n",
    "    'Illinois': 'IL',\n",
    "    'Indiana': 'IN',\n",
    "    'Iowa': 'IA',\n",
    "    'Kansas': 'KS',\n",
    "    'Kentucky': 'KY',\n",
    "    'Louisiana': 'LA',\n",
    "    'Maine': 'ME',\n",
    "    'Maryland': 'MD',\n",
    "    'Massachusetts': 'MA',\n",
    "    'Michigan': 'MI',\n",
    "    'Minnesota': 'MN',\n",
    "    'Mississippi': 'MS',\n",
    "    'Missouri': 'MO',\n",
    "    'Montana': 'MT',\n",
    "    'Nebraska': 'NE',\n",
    "    'Nevada': 'NV',\n",
    "    'New Hampshire': 'NH',\n",
    "    'New Jersey': 'NJ',\n",
    "    'New Mexico': 'NM',\n",
    "    'New York': 'NY',\n",
    "    'North Carolina': 'NC',\n",
    "    'North Dakota': 'ND',\n",
    "    'Ohio': 'OH',\n",
    "    'Oklahoma': 'OK',\n",
    "    'Oregon': 'OR',\n",
    "    'Pennsylvania': 'PA',\n",
    "    'Rhode Island': 'RI',\n",
    "    'South Carolina': 'SC',\n",
    "    'South Dakota': 'SD',\n",
    "    'Tennessee': 'TN',\n",
    "    'Texas': 'TX',\n",
    "    'Utah': 'UT',\n",
    "    'Vermont': 'VT',\n",
    "    'Virginia': 'VA',\n",
    "    'Washington': 'WA',\n",
    "    'West Virginia': 'WV',\n",
    "    'Wisconsin': 'WI',\n",
    "    'Wyoming': 'WY'\n",
    "}\n",
    "\n"
   ]
  },
  {
   "cell_type": "code",
   "execution_count": null,
   "id": "f4989106",
   "metadata": {},
   "outputs": [],
   "source": [
    "state_code=state_to_abbreviation[\"Alabama\"]\n",
    "state_code_ls=[]\n",
    "for i in range(len(candidate_ls)):\n",
    "    state_code_ls.append(state_code)\n",
    "state_code_ls"
   ]
  },
  {
   "cell_type": "code",
   "execution_count": null,
   "id": "8d233d17",
   "metadata": {},
   "outputs": [],
   "source": [
    "election=pd.DataFrame({\"State\":state,\"State Code\":state_code_ls,\"District\":final_ls,\"Party\":party_ls,\"Candidate\":candidate_name_ls,\"Incumbent\":incumbent,\"Vote\":vote_ls,\"Pct%\":percentage_ls})\n",
    "election"
   ]
  },
  {
   "cell_type": "code",
   "execution_count": null,
   "id": "b7806177",
   "metadata": {},
   "outputs": [],
   "source": [
    "for i in state_list:\n",
    "    print(state_to_abbreviation[i])\n"
   ]
  },
  {
   "cell_type": "markdown",
   "id": "a6c86fe3",
   "metadata": {},
   "source": [
    "# Alaska"
   ]
  },
  {
   "cell_type": "code",
   "execution_count": null,
   "id": "d9cbf4ca",
   "metadata": {},
   "outputs": [],
   "source": [
    "s = Service(ChromeDriverManager().install())\n",
    "driver = webdriver.Chrome(service=s)\n",
    "driver.get(state_url[1])\n",
    "driver.maximize_window()"
   ]
  },
  {
   "cell_type": "code",
   "execution_count": null,
   "id": "e0fdcb93",
   "metadata": {},
   "outputs": [],
   "source": [
    "loadmore_button = driver.find_element(By.CLASS_NAME,\"styles_container__C5E_O\")\n",
    "loadmore_button.click()"
   ]
  },
  {
   "cell_type": "code",
   "execution_count": null,
   "id": "88c6ffca",
   "metadata": {},
   "outputs": [],
   "source": [
    "soup_state=BeautifulSoup(driver.page_source, 'html.parser')"
   ]
  },
  {
   "cell_type": "code",
   "execution_count": null,
   "id": "fbbb9bfa",
   "metadata": {},
   "outputs": [],
   "source": [
    "soup_state.find_all(\"span\",{\"class\":\"styles_tag__5jkDh\"})"
   ]
  },
  {
   "cell_type": "code",
   "execution_count": null,
   "id": "6a034cd5",
   "metadata": {},
   "outputs": [],
   "source": [
    "h=soup_state.find_all(\"table\",{\"class\":\"styles_container__7iw6C\"})\n",
    "for i in h:\n",
    "    print(i.text)"
   ]
  },
  {
   "cell_type": "code",
   "execution_count": null,
   "id": "66eb5a00",
   "metadata": {},
   "outputs": [],
   "source": [
    "data = soup_state.find_all(\"table\",{\"class\":\"styles_container__7iw6C\"})\n",
    "spans = soup_state.find_all('span')\n",
    "candidate_ls=[]\n",
    "\n",
    "for result in data:\n",
    "    spans = result.find_all('span',class_=False)\n",
    "    \n",
    "    for span in spans:\n",
    "        if \"Hide other candidates\" not in span:\n",
    "            candidate_ls.append(span.text)\n",
    "candidate_ls  "
   ]
  },
  {
   "cell_type": "code",
   "execution_count": null,
   "id": "f003a5c5",
   "metadata": {},
   "outputs": [],
   "source": [
    " # State list\n",
    "for j in range(len(candidate_ls)):\n",
    "    state.append(state_list[1])\n",
    "state\n",
    "    \n",
    "    # State Code list\n",
    "state_code=state_to_abbreviation[state_list[1]]\n",
    "for j in range(len(candidate_ls)):\n",
    "    state_code_ls.append(state_code)\n",
    "state_code_ls\n",
    "    \n",
    "    \n",
    "    # Candidate Name list\n",
    "for j in candidate_ls:\n",
    "    candidate_name_ls.append(j.split(\" (\")[0].replace(\"*\",\"\"))\n",
    "        \n",
    "    # Party list\n",
    "for j in candidate_ls:\n",
    "    if \"(R\" in j:\n",
    "        party_ls.append(\"Republican\")\n",
    "    elif \"Libertarian Party\" in j:\n",
    "        party_ls.append(\"Libertarian Party\")\n",
    "    elif \"(D\" in j:\n",
    "        party_ls.append(\"Democratic\")\n",
    "    else:\n",
    "        party_ls.append(\"N/A\")\n",
    "    party_ls\n",
    "    \n",
    "    # Incumbent list\n",
    "for j in candidate_ls:\n",
    "    if \"*\" in j:\n",
    "        incumbent.append(\"Incumbent\")\n",
    "    else:\n",
    "        incumbent.append(\"/\")\n",
    "incumbent"
   ]
  },
  {
   "cell_type": "code",
   "execution_count": null,
   "id": "9943c7e3",
   "metadata": {},
   "outputs": [],
   "source": [
    "soup_state.find_all(\"td\",{\"class\":\"styles_container__vzwvV\"})"
   ]
  },
  {
   "cell_type": "code",
   "execution_count": null,
   "id": "62f730a1",
   "metadata": {},
   "outputs": [],
   "source": [
    " # Percentage list\n",
    "percentage=soup_state.find_all(\"td\",{\"class\":\"styles_container__vzwvV\"})\n",
    "for j in percentage:\n",
    "    percentage_ls.append(j.text)\n",
    "percentage_ls\n"
   ]
  },
  {
   "cell_type": "code",
   "execution_count": null,
   "id": "5d5e39ef",
   "metadata": {},
   "outputs": [],
   "source": [
    "vote=soup_state.find_all(\"div\",{\"class\":\"styles_root__ca6tY\"})\n",
    "for j in vote:\n",
    "    k=j.text.split()\n",
    "for text in k:\n",
    "    if \",\" in text:\n",
    "        if text[len(text)-1] !=\",\":\n",
    "            vote_ls.append(text)\n",
    "vote_ls\n",
    "        "
   ]
  },
  {
   "cell_type": "code",
   "execution_count": null,
   "id": "43aa9c00",
   "metadata": {},
   "outputs": [],
   "source": [
    "# Dem win\n",
    "dem_win=soup_state.find_all(\"span\",{\"class\":\"styles_highlighted__YhtNx styles_contrast-dem__WYCAC\"})\n",
    "dem_win_ls=[]\n",
    "for i in dem_win:\n",
    "    dem_win_ls.append(i.text)\n",
    "dem_win_ls"
   ]
  },
  {
   "cell_type": "code",
   "execution_count": null,
   "id": "8572c390",
   "metadata": {},
   "outputs": [],
   "source": [
    "# Gop win\n",
    "gop_win_ls=[]\n",
    "gop_win=soup_alabama.find_all(\"span\",{\"class\":\"styles_highlighted__YhtNx styles_contrast-gop__WYCAC\"})\n",
    "for i in gop_win:\n",
    "    gop_win_ls.append(i.text)\n",
    "gop_win_ls"
   ]
  },
  {
   "cell_type": "code",
   "execution_count": null,
   "id": "fff8708e",
   "metadata": {},
   "outputs": [],
   "source": [
    "#win_ls\n",
    "win_ls=gop_win_ls+dem_win_ls\n",
    "win_name_ls=[]\n",
    "for i in win_ls:\n",
    "    win_name_ls.append(i.split(\" (\")[0].replace(\"*\",\"\"))\n",
    "win_name_ls"
   ]
  },
  {
   "cell_type": "code",
   "execution_count": null,
   "id": "b1b943c2",
   "metadata": {},
   "outputs": [],
   "source": [
    "# district list \n",
    "for i in range(len(candidate_ls)):\n",
    "    final_ls.append(district_ala[0])\n",
    "final_ls\n"
   ]
  },
  {
   "cell_type": "code",
   "execution_count": null,
   "id": "3eaa6e2e",
   "metadata": {},
   "outputs": [],
   "source": [
    "len(percentage_ls)"
   ]
  },
  {
   "cell_type": "code",
   "execution_count": null,
   "id": "41f7b518",
   "metadata": {},
   "outputs": [],
   "source": [
    "election=pd.DataFrame({\"State\":state,\"State Code\":state_code_ls,\"District\":final_ls,\"Party\":party_ls,\"Candidate\":candidate_name_ls,\"Incumbent\":incumbent,\"Vote\":vote_ls,\"Pct%\":percentage_ls})\n",
    "election  "
   ]
  },
  {
   "cell_type": "markdown",
   "id": "e6f729bb",
   "metadata": {},
   "source": [
    "# Arizona"
   ]
  },
  {
   "cell_type": "code",
   "execution_count": null,
   "id": "56ee4c0d",
   "metadata": {},
   "outputs": [],
   "source": [
    "s = Service(ChromeDriverManager().install())\n",
    "driver = webdriver.Chrome(service=s)\n",
    "response=driver.get(state_url[2])\n",
    "driver.maximize_window()"
   ]
  },
  {
   "cell_type": "code",
   "execution_count": null,
   "id": "5d45f984",
   "metadata": {},
   "outputs": [],
   "source": [
    "loadmore_button = driver.find_element(By.CLASS_NAME,\"styles_container__C5E_O\")\n",
    "loadmore_button.click()"
   ]
  },
  {
   "cell_type": "code",
   "execution_count": null,
   "id": "3ba8cc28",
   "metadata": {},
   "outputs": [],
   "source": [
    "soup_state=BeautifulSoup(driver.page_source, 'html.parser')"
   ]
  },
  {
   "cell_type": "code",
   "execution_count": null,
   "id": "be3f06f7",
   "metadata": {},
   "outputs": [],
   "source": [
    "# Candidate list\n",
    "data = soup_state.find_all('div', {'class':'styles_left-title__rNUfI'})\n",
    "spans = soup_state.find_all('span')\n",
    "text_list=[]\n",
    "        \n",
    "for result in data:\n",
    "    spans = result.find_all('span',class_=False)\n",
    "    for span in spans:\n",
    "        text_list.append(span.text)\n",
    "    text_list   \n",
    "for text in text_list:\n",
    "    if \"%\" not in text:\n",
    "        candidate_ls.append(text) \n",
    "candidate_ls"
   ]
  },
  {
   "cell_type": "code",
   "execution_count": null,
   "id": "000bc3a6",
   "metadata": {},
   "outputs": [],
   "source": [
    " # State list\n",
    "for j in range(len(candidate_ls)):\n",
    "    state.append(state_list[2])\n",
    "state"
   ]
  },
  {
   "cell_type": "code",
   "execution_count": null,
   "id": "e59ef80b",
   "metadata": {},
   "outputs": [],
   "source": [
    " # State Code list\n",
    "state_code=state_to_abbreviation[state_list[2]]\n",
    "for j in range(len(candidate_ls)):\n",
    "    state_code_ls.append(state_code)\n",
    "state_code_ls"
   ]
  },
  {
   "cell_type": "code",
   "execution_count": null,
   "id": "21ba9c6a",
   "metadata": {},
   "outputs": [],
   "source": [
    "# Candidate Name list\n",
    "for j in candidate_ls:\n",
    "    candidate_name_ls.append(j.split(\" (\")[0].replace(\"*\",\"\"))"
   ]
  },
  {
   "cell_type": "code",
   "execution_count": null,
   "id": "15819cd7",
   "metadata": {},
   "outputs": [],
   "source": [
    "# Candidate trial list\n",
    "for j in candidate_s:\n",
    "    candidate_trial_ls=[j.split(\" (\")[0].replace(\"*\",\"\")]          "
   ]
  },
  {
   "cell_type": "code",
   "execution_count": null,
   "id": "7951de17",
   "metadata": {},
   "outputs": [],
   "source": [
    "# district list\n",
    "dem_win_ls=[]\n",
    "dem_win=soup_state.find_all(\"span\",{\"class\":\"styles_highlighted__YhtNx styles_contrast-dem__WYCAC\"})\n",
    "for i in dem_win:\n",
    "    dem_win_ls.append(i.text)\n",
    "    dem_win_ls \n",
    "        \n",
    "gop_win_ls=[]\n",
    "gop_win=soup_state.find_all(\"span\",{\"class\":\"styles_highlighted__YhtNx styles_contrast-gop__2dV83\"})\n",
    "        \n",
    "for i in gop_win:\n",
    "    gop_win_ls.append(i.text)\n",
    "    gop_win_ls\n",
    "        \n",
    "win_ls=gop_win_ls+dem_win_ls\n",
    "win_name_ls=[]\n",
    "for i in win_ls:\n",
    "    win_name_ls.append(i.split(\" (\")[0].replace(\"*\",\"\"))\n",
    "win_name_ls\n",
    "        \n",
    "h=[i in win_name_ls for i in candidate_name_ls]\n",
    "final_ls.append([district_ala[sum(h[:i+1])-1] for i in range(len(candidate_name_ls))])\n",
    "      "
   ]
  },
  {
   "cell_type": "code",
   "execution_count": null,
   "id": "ae450d81",
   "metadata": {},
   "outputs": [],
   "source": [
    " # Party list\n",
    "for j in candidate_ls:\n",
    "    if \"(R\" in j:\n",
    "        party_ls.append(\"Republican\")\n",
    "    elif \"Libertarian Party\" in j:\n",
    "        party_ls.append(\"Libertarian Party\")\n",
    "    elif \"(D\" in j:\n",
    "        party_ls.append(\"Democratic\")\n",
    "    elif \"(Ind.\" in j:\n",
    "        party_ls.append(\"Individual\")\n",
    "    else:\n",
    "        party_ls.append(\"N/A\")\n",
    "party_ls"
   ]
  },
  {
   "cell_type": "code",
   "execution_count": null,
   "id": "4122c986",
   "metadata": {},
   "outputs": [],
   "source": [
    "# Incumbent list\n",
    "for j in candidate_ls:\n",
    "    if \"*\" in j:\n",
    "        incumbent.append(\"Incumbent\")\n",
    "    else:\n",
    "        incumbent.append(\"/\")\n",
    "    incumbent"
   ]
  },
  {
   "cell_type": "code",
   "execution_count": null,
   "id": "cd39f23a",
   "metadata": {},
   "outputs": [],
   "source": [
    "# Vote list\n",
    "vote=soup_state.find_all(\"td\",{\"class\":\"styles_container__MY5SI styles_is-table-standard__hQBdN styles_is-table__r1_IW styles_is-desktop__BnEze\"})\n",
    "for j in vote:\n",
    "        vote_ls.append(j.text)\n",
    "vote_ls"
   ]
  },
  {
   "cell_type": "code",
   "execution_count": null,
   "id": "9361ac94",
   "metadata": {},
   "outputs": [],
   "source": [
    "# Percentage list\n",
    "percentage=soup_state.find_all(\"td\",{\"class\":\"styles_container__vzwvV styles_is-table__HG_oS\"})\n",
    "for j in percentage:\n",
    "    percentage_ls.append(j.text)\n",
    "percentage_ls"
   ]
  },
  {
   "cell_type": "code",
   "execution_count": null,
   "id": "fa571f53",
   "metadata": {},
   "outputs": [],
   "source": [
    "election=pd.DataFrame({\"State\":state,\"State Code\":state_code_ls,\"District\":final_ls,\"Party\":party_ls,\"Candidate\":candidate_name_ls,\"Incumbent\":incumbent,\"Vote\":vote_ls,\"Pct%\":percentage_ls})\n",
    "election  "
   ]
  },
  {
   "cell_type": "code",
   "execution_count": 798,
   "id": "fffdd6c0",
   "metadata": {},
   "outputs": [
    {
     "ename": "KeyboardInterrupt",
     "evalue": "",
     "output_type": "error",
     "traceback": [
      "\u001b[0;31m---------------------------------------------------------------------------\u001b[0m",
      "\u001b[0;31mKeyboardInterrupt\u001b[0m                         Traceback (most recent call last)",
      "\u001b[0;32m/var/folders/5n/y4skld515q1d2nbk5wx24_p80000gn/T/ipykernel_34488/838204240.py\u001b[0m in \u001b[0;36m<module>\u001b[0;34m\u001b[0m\n\u001b[0;32m----> 1\u001b[0;31m \u001b[0msoup_state\u001b[0m\u001b[0;34m=\u001b[0m\u001b[0mBeautifulSoup\u001b[0m\u001b[0;34m(\u001b[0m\u001b[0mdriver\u001b[0m\u001b[0;34m.\u001b[0m\u001b[0mpage_source\u001b[0m\u001b[0;34m,\u001b[0m \u001b[0;34m'html.parser'\u001b[0m\u001b[0;34m)\u001b[0m\u001b[0;34m\u001b[0m\u001b[0;34m\u001b[0m\u001b[0m\n\u001b[0m\u001b[1;32m      2\u001b[0m \u001b[0;34m\u001b[0m\u001b[0m\n\u001b[1;32m      3\u001b[0m     \u001b[0;31m# Candidate list\u001b[0m\u001b[0;34m\u001b[0m\u001b[0;34m\u001b[0m\u001b[0m\n\u001b[1;32m      4\u001b[0m \u001b[0mdata\u001b[0m \u001b[0;34m=\u001b[0m \u001b[0msoup_state\u001b[0m\u001b[0;34m.\u001b[0m\u001b[0mfind_all\u001b[0m\u001b[0;34m(\u001b[0m\u001b[0;34m'div'\u001b[0m\u001b[0;34m,\u001b[0m \u001b[0;34m{\u001b[0m\u001b[0;34m'class'\u001b[0m\u001b[0;34m:\u001b[0m\u001b[0;34m'styles_left-title__rNUfI'\u001b[0m\u001b[0;34m}\u001b[0m\u001b[0;34m)\u001b[0m\u001b[0;34m\u001b[0m\u001b[0;34m\u001b[0m\u001b[0m\n\u001b[1;32m      5\u001b[0m \u001b[0mspans\u001b[0m \u001b[0;34m=\u001b[0m \u001b[0msoup_state\u001b[0m\u001b[0;34m.\u001b[0m\u001b[0mfind_all\u001b[0m\u001b[0;34m(\u001b[0m\u001b[0;34m'span'\u001b[0m\u001b[0;34m)\u001b[0m\u001b[0;34m\u001b[0m\u001b[0;34m\u001b[0m\u001b[0m\n",
      "\u001b[0;32m~/opt/anaconda3/lib/python3.9/site-packages/selenium/webdriver/remote/webdriver.py\u001b[0m in \u001b[0;36mpage_source\u001b[0;34m(self)\u001b[0m\n\u001b[1;32m    548\u001b[0m                 \u001b[0mdriver\u001b[0m\u001b[0;34m.\u001b[0m\u001b[0mpage_source\u001b[0m\u001b[0;34m\u001b[0m\u001b[0;34m\u001b[0m\u001b[0m\n\u001b[1;32m    549\u001b[0m         \"\"\"\n\u001b[0;32m--> 550\u001b[0;31m         \u001b[0;32mreturn\u001b[0m \u001b[0mself\u001b[0m\u001b[0;34m.\u001b[0m\u001b[0mexecute\u001b[0m\u001b[0;34m(\u001b[0m\u001b[0mCommand\u001b[0m\u001b[0;34m.\u001b[0m\u001b[0mGET_PAGE_SOURCE\u001b[0m\u001b[0;34m)\u001b[0m\u001b[0;34m[\u001b[0m\u001b[0;34m\"value\"\u001b[0m\u001b[0;34m]\u001b[0m\u001b[0;34m\u001b[0m\u001b[0;34m\u001b[0m\u001b[0m\n\u001b[0m\u001b[1;32m    551\u001b[0m \u001b[0;34m\u001b[0m\u001b[0m\n\u001b[1;32m    552\u001b[0m     \u001b[0;32mdef\u001b[0m \u001b[0mclose\u001b[0m\u001b[0;34m(\u001b[0m\u001b[0mself\u001b[0m\u001b[0;34m)\u001b[0m \u001b[0;34m->\u001b[0m \u001b[0;32mNone\u001b[0m\u001b[0;34m:\u001b[0m\u001b[0;34m\u001b[0m\u001b[0;34m\u001b[0m\u001b[0m\n",
      "\u001b[0;32m~/opt/anaconda3/lib/python3.9/site-packages/selenium/webdriver/remote/webdriver.py\u001b[0m in \u001b[0;36mexecute\u001b[0;34m(self, driver_command, params)\u001b[0m\n\u001b[1;32m    440\u001b[0m                 \u001b[0mparams\u001b[0m\u001b[0;34m[\u001b[0m\u001b[0;34m\"sessionId\"\u001b[0m\u001b[0;34m]\u001b[0m \u001b[0;34m=\u001b[0m \u001b[0mself\u001b[0m\u001b[0;34m.\u001b[0m\u001b[0msession_id\u001b[0m\u001b[0;34m\u001b[0m\u001b[0;34m\u001b[0m\u001b[0m\n\u001b[1;32m    441\u001b[0m \u001b[0;34m\u001b[0m\u001b[0m\n\u001b[0;32m--> 442\u001b[0;31m         \u001b[0mresponse\u001b[0m \u001b[0;34m=\u001b[0m \u001b[0mself\u001b[0m\u001b[0;34m.\u001b[0m\u001b[0mcommand_executor\u001b[0m\u001b[0;34m.\u001b[0m\u001b[0mexecute\u001b[0m\u001b[0;34m(\u001b[0m\u001b[0mdriver_command\u001b[0m\u001b[0;34m,\u001b[0m \u001b[0mparams\u001b[0m\u001b[0;34m)\u001b[0m\u001b[0;34m\u001b[0m\u001b[0;34m\u001b[0m\u001b[0m\n\u001b[0m\u001b[1;32m    443\u001b[0m         \u001b[0;32mif\u001b[0m \u001b[0mresponse\u001b[0m\u001b[0;34m:\u001b[0m\u001b[0;34m\u001b[0m\u001b[0;34m\u001b[0m\u001b[0m\n\u001b[1;32m    444\u001b[0m             \u001b[0mself\u001b[0m\u001b[0;34m.\u001b[0m\u001b[0merror_handler\u001b[0m\u001b[0;34m.\u001b[0m\u001b[0mcheck_response\u001b[0m\u001b[0;34m(\u001b[0m\u001b[0mresponse\u001b[0m\u001b[0;34m)\u001b[0m\u001b[0;34m\u001b[0m\u001b[0;34m\u001b[0m\u001b[0m\n",
      "\u001b[0;32m~/opt/anaconda3/lib/python3.9/site-packages/selenium/webdriver/remote/remote_connection.py\u001b[0m in \u001b[0;36mexecute\u001b[0;34m(self, command, params)\u001b[0m\n\u001b[1;32m    292\u001b[0m         \u001b[0mdata\u001b[0m \u001b[0;34m=\u001b[0m \u001b[0mutils\u001b[0m\u001b[0;34m.\u001b[0m\u001b[0mdump_json\u001b[0m\u001b[0;34m(\u001b[0m\u001b[0mparams\u001b[0m\u001b[0;34m)\u001b[0m\u001b[0;34m\u001b[0m\u001b[0;34m\u001b[0m\u001b[0m\n\u001b[1;32m    293\u001b[0m         \u001b[0murl\u001b[0m \u001b[0;34m=\u001b[0m \u001b[0;34mf\"{self._url}{path}\"\u001b[0m\u001b[0;34m\u001b[0m\u001b[0;34m\u001b[0m\u001b[0m\n\u001b[0;32m--> 294\u001b[0;31m         \u001b[0;32mreturn\u001b[0m \u001b[0mself\u001b[0m\u001b[0;34m.\u001b[0m\u001b[0m_request\u001b[0m\u001b[0;34m(\u001b[0m\u001b[0mcommand_info\u001b[0m\u001b[0;34m[\u001b[0m\u001b[0;36m0\u001b[0m\u001b[0;34m]\u001b[0m\u001b[0;34m,\u001b[0m \u001b[0murl\u001b[0m\u001b[0;34m,\u001b[0m \u001b[0mbody\u001b[0m\u001b[0;34m=\u001b[0m\u001b[0mdata\u001b[0m\u001b[0;34m)\u001b[0m\u001b[0;34m\u001b[0m\u001b[0;34m\u001b[0m\u001b[0m\n\u001b[0m\u001b[1;32m    295\u001b[0m \u001b[0;34m\u001b[0m\u001b[0m\n\u001b[1;32m    296\u001b[0m     \u001b[0;32mdef\u001b[0m \u001b[0m_request\u001b[0m\u001b[0;34m(\u001b[0m\u001b[0mself\u001b[0m\u001b[0;34m,\u001b[0m \u001b[0mmethod\u001b[0m\u001b[0;34m,\u001b[0m \u001b[0murl\u001b[0m\u001b[0;34m,\u001b[0m \u001b[0mbody\u001b[0m\u001b[0;34m=\u001b[0m\u001b[0;32mNone\u001b[0m\u001b[0;34m)\u001b[0m\u001b[0;34m:\u001b[0m\u001b[0;34m\u001b[0m\u001b[0;34m\u001b[0m\u001b[0m\n",
      "\u001b[0;32m~/opt/anaconda3/lib/python3.9/site-packages/selenium/webdriver/remote/remote_connection.py\u001b[0m in \u001b[0;36m_request\u001b[0;34m(self, method, url, body)\u001b[0m\n\u001b[1;32m    314\u001b[0m \u001b[0;34m\u001b[0m\u001b[0m\n\u001b[1;32m    315\u001b[0m         \u001b[0;32mif\u001b[0m \u001b[0mself\u001b[0m\u001b[0;34m.\u001b[0m\u001b[0mkeep_alive\u001b[0m\u001b[0;34m:\u001b[0m\u001b[0;34m\u001b[0m\u001b[0;34m\u001b[0m\u001b[0m\n\u001b[0;32m--> 316\u001b[0;31m             \u001b[0mresponse\u001b[0m \u001b[0;34m=\u001b[0m \u001b[0mself\u001b[0m\u001b[0;34m.\u001b[0m\u001b[0m_conn\u001b[0m\u001b[0;34m.\u001b[0m\u001b[0mrequest\u001b[0m\u001b[0;34m(\u001b[0m\u001b[0mmethod\u001b[0m\u001b[0;34m,\u001b[0m \u001b[0murl\u001b[0m\u001b[0;34m,\u001b[0m \u001b[0mbody\u001b[0m\u001b[0;34m=\u001b[0m\u001b[0mbody\u001b[0m\u001b[0;34m,\u001b[0m \u001b[0mheaders\u001b[0m\u001b[0;34m=\u001b[0m\u001b[0mheaders\u001b[0m\u001b[0;34m)\u001b[0m\u001b[0;34m\u001b[0m\u001b[0;34m\u001b[0m\u001b[0m\n\u001b[0m\u001b[1;32m    317\u001b[0m             \u001b[0mstatuscode\u001b[0m \u001b[0;34m=\u001b[0m \u001b[0mresponse\u001b[0m\u001b[0;34m.\u001b[0m\u001b[0mstatus\u001b[0m\u001b[0;34m\u001b[0m\u001b[0;34m\u001b[0m\u001b[0m\n\u001b[1;32m    318\u001b[0m         \u001b[0;32melse\u001b[0m\u001b[0;34m:\u001b[0m\u001b[0;34m\u001b[0m\u001b[0;34m\u001b[0m\u001b[0m\n",
      "\u001b[0;32m~/opt/anaconda3/lib/python3.9/site-packages/urllib3/request.py\u001b[0m in \u001b[0;36mrequest\u001b[0;34m(self, method, url, fields, headers, **urlopen_kw)\u001b[0m\n\u001b[1;32m     72\u001b[0m \u001b[0;34m\u001b[0m\u001b[0m\n\u001b[1;32m     73\u001b[0m         \u001b[0;32mif\u001b[0m \u001b[0mmethod\u001b[0m \u001b[0;32min\u001b[0m \u001b[0mself\u001b[0m\u001b[0;34m.\u001b[0m\u001b[0m_encode_url_methods\u001b[0m\u001b[0;34m:\u001b[0m\u001b[0;34m\u001b[0m\u001b[0;34m\u001b[0m\u001b[0m\n\u001b[0;32m---> 74\u001b[0;31m             return self.request_encode_url(\n\u001b[0m\u001b[1;32m     75\u001b[0m                 \u001b[0mmethod\u001b[0m\u001b[0;34m,\u001b[0m \u001b[0murl\u001b[0m\u001b[0;34m,\u001b[0m \u001b[0mfields\u001b[0m\u001b[0;34m=\u001b[0m\u001b[0mfields\u001b[0m\u001b[0;34m,\u001b[0m \u001b[0mheaders\u001b[0m\u001b[0;34m=\u001b[0m\u001b[0mheaders\u001b[0m\u001b[0;34m,\u001b[0m \u001b[0;34m**\u001b[0m\u001b[0murlopen_kw\u001b[0m\u001b[0;34m\u001b[0m\u001b[0;34m\u001b[0m\u001b[0m\n\u001b[1;32m     76\u001b[0m             )\n",
      "\u001b[0;32m~/opt/anaconda3/lib/python3.9/site-packages/urllib3/request.py\u001b[0m in \u001b[0;36mrequest_encode_url\u001b[0;34m(self, method, url, fields, headers, **urlopen_kw)\u001b[0m\n\u001b[1;32m     94\u001b[0m             \u001b[0murl\u001b[0m \u001b[0;34m+=\u001b[0m \u001b[0;34m\"?\"\u001b[0m \u001b[0;34m+\u001b[0m \u001b[0murlencode\u001b[0m\u001b[0;34m(\u001b[0m\u001b[0mfields\u001b[0m\u001b[0;34m)\u001b[0m\u001b[0;34m\u001b[0m\u001b[0;34m\u001b[0m\u001b[0m\n\u001b[1;32m     95\u001b[0m \u001b[0;34m\u001b[0m\u001b[0m\n\u001b[0;32m---> 96\u001b[0;31m         \u001b[0;32mreturn\u001b[0m \u001b[0mself\u001b[0m\u001b[0;34m.\u001b[0m\u001b[0murlopen\u001b[0m\u001b[0;34m(\u001b[0m\u001b[0mmethod\u001b[0m\u001b[0;34m,\u001b[0m \u001b[0murl\u001b[0m\u001b[0;34m,\u001b[0m \u001b[0;34m**\u001b[0m\u001b[0mextra_kw\u001b[0m\u001b[0;34m)\u001b[0m\u001b[0;34m\u001b[0m\u001b[0;34m\u001b[0m\u001b[0m\n\u001b[0m\u001b[1;32m     97\u001b[0m \u001b[0;34m\u001b[0m\u001b[0m\n\u001b[1;32m     98\u001b[0m     def request_encode_body(\n",
      "\u001b[0;32m~/opt/anaconda3/lib/python3.9/site-packages/urllib3/poolmanager.py\u001b[0m in \u001b[0;36murlopen\u001b[0;34m(self, method, url, redirect, **kw)\u001b[0m\n\u001b[1;32m    373\u001b[0m             \u001b[0mresponse\u001b[0m \u001b[0;34m=\u001b[0m \u001b[0mconn\u001b[0m\u001b[0;34m.\u001b[0m\u001b[0murlopen\u001b[0m\u001b[0;34m(\u001b[0m\u001b[0mmethod\u001b[0m\u001b[0;34m,\u001b[0m \u001b[0murl\u001b[0m\u001b[0;34m,\u001b[0m \u001b[0;34m**\u001b[0m\u001b[0mkw\u001b[0m\u001b[0;34m)\u001b[0m\u001b[0;34m\u001b[0m\u001b[0;34m\u001b[0m\u001b[0m\n\u001b[1;32m    374\u001b[0m         \u001b[0;32melse\u001b[0m\u001b[0;34m:\u001b[0m\u001b[0;34m\u001b[0m\u001b[0;34m\u001b[0m\u001b[0m\n\u001b[0;32m--> 375\u001b[0;31m             \u001b[0mresponse\u001b[0m \u001b[0;34m=\u001b[0m \u001b[0mconn\u001b[0m\u001b[0;34m.\u001b[0m\u001b[0murlopen\u001b[0m\u001b[0;34m(\u001b[0m\u001b[0mmethod\u001b[0m\u001b[0;34m,\u001b[0m \u001b[0mu\u001b[0m\u001b[0;34m.\u001b[0m\u001b[0mrequest_uri\u001b[0m\u001b[0;34m,\u001b[0m \u001b[0;34m**\u001b[0m\u001b[0mkw\u001b[0m\u001b[0;34m)\u001b[0m\u001b[0;34m\u001b[0m\u001b[0;34m\u001b[0m\u001b[0m\n\u001b[0m\u001b[1;32m    376\u001b[0m \u001b[0;34m\u001b[0m\u001b[0m\n\u001b[1;32m    377\u001b[0m         \u001b[0mredirect_location\u001b[0m \u001b[0;34m=\u001b[0m \u001b[0mredirect\u001b[0m \u001b[0;32mand\u001b[0m \u001b[0mresponse\u001b[0m\u001b[0;34m.\u001b[0m\u001b[0mget_redirect_location\u001b[0m\u001b[0;34m(\u001b[0m\u001b[0;34m)\u001b[0m\u001b[0;34m\u001b[0m\u001b[0;34m\u001b[0m\u001b[0m\n",
      "\u001b[0;32m~/opt/anaconda3/lib/python3.9/site-packages/urllib3/connectionpool.py\u001b[0m in \u001b[0;36murlopen\u001b[0;34m(self, method, url, body, headers, retries, redirect, assert_same_host, timeout, pool_timeout, release_conn, chunked, body_pos, **response_kw)\u001b[0m\n\u001b[1;32m    697\u001b[0m \u001b[0;34m\u001b[0m\u001b[0m\n\u001b[1;32m    698\u001b[0m             \u001b[0;31m# Make the request on the httplib connection object.\u001b[0m\u001b[0;34m\u001b[0m\u001b[0;34m\u001b[0m\u001b[0m\n\u001b[0;32m--> 699\u001b[0;31m             httplib_response = self._make_request(\n\u001b[0m\u001b[1;32m    700\u001b[0m                 \u001b[0mconn\u001b[0m\u001b[0;34m,\u001b[0m\u001b[0;34m\u001b[0m\u001b[0;34m\u001b[0m\u001b[0m\n\u001b[1;32m    701\u001b[0m                 \u001b[0mmethod\u001b[0m\u001b[0;34m,\u001b[0m\u001b[0;34m\u001b[0m\u001b[0;34m\u001b[0m\u001b[0m\n",
      "\u001b[0;32m~/opt/anaconda3/lib/python3.9/site-packages/urllib3/connectionpool.py\u001b[0m in \u001b[0;36m_make_request\u001b[0;34m(self, conn, method, url, timeout, chunked, **httplib_request_kw)\u001b[0m\n\u001b[1;32m    443\u001b[0m                     \u001b[0;31m# Python 3 (including for exceptions like SystemExit).\u001b[0m\u001b[0;34m\u001b[0m\u001b[0;34m\u001b[0m\u001b[0m\n\u001b[1;32m    444\u001b[0m                     \u001b[0;31m# Otherwise it looks like a bug in the code.\u001b[0m\u001b[0;34m\u001b[0m\u001b[0;34m\u001b[0m\u001b[0m\n\u001b[0;32m--> 445\u001b[0;31m                     \u001b[0msix\u001b[0m\u001b[0;34m.\u001b[0m\u001b[0mraise_from\u001b[0m\u001b[0;34m(\u001b[0m\u001b[0me\u001b[0m\u001b[0;34m,\u001b[0m \u001b[0;32mNone\u001b[0m\u001b[0;34m)\u001b[0m\u001b[0;34m\u001b[0m\u001b[0;34m\u001b[0m\u001b[0m\n\u001b[0m\u001b[1;32m    446\u001b[0m         \u001b[0;32mexcept\u001b[0m \u001b[0;34m(\u001b[0m\u001b[0mSocketTimeout\u001b[0m\u001b[0;34m,\u001b[0m \u001b[0mBaseSSLError\u001b[0m\u001b[0;34m,\u001b[0m \u001b[0mSocketError\u001b[0m\u001b[0;34m)\u001b[0m \u001b[0;32mas\u001b[0m \u001b[0me\u001b[0m\u001b[0;34m:\u001b[0m\u001b[0;34m\u001b[0m\u001b[0;34m\u001b[0m\u001b[0m\n\u001b[1;32m    447\u001b[0m             \u001b[0mself\u001b[0m\u001b[0;34m.\u001b[0m\u001b[0m_raise_timeout\u001b[0m\u001b[0;34m(\u001b[0m\u001b[0merr\u001b[0m\u001b[0;34m=\u001b[0m\u001b[0me\u001b[0m\u001b[0;34m,\u001b[0m \u001b[0murl\u001b[0m\u001b[0;34m=\u001b[0m\u001b[0murl\u001b[0m\u001b[0;34m,\u001b[0m \u001b[0mtimeout_value\u001b[0m\u001b[0;34m=\u001b[0m\u001b[0mread_timeout\u001b[0m\u001b[0;34m)\u001b[0m\u001b[0;34m\u001b[0m\u001b[0;34m\u001b[0m\u001b[0m\n",
      "\u001b[0;32m~/opt/anaconda3/lib/python3.9/site-packages/urllib3/packages/six.py\u001b[0m in \u001b[0;36mraise_from\u001b[0;34m(value, from_value)\u001b[0m\n",
      "\u001b[0;32m~/opt/anaconda3/lib/python3.9/site-packages/urllib3/connectionpool.py\u001b[0m in \u001b[0;36m_make_request\u001b[0;34m(self, conn, method, url, timeout, chunked, **httplib_request_kw)\u001b[0m\n\u001b[1;32m    438\u001b[0m                 \u001b[0;31m# Python 3\u001b[0m\u001b[0;34m\u001b[0m\u001b[0;34m\u001b[0m\u001b[0m\n\u001b[1;32m    439\u001b[0m                 \u001b[0;32mtry\u001b[0m\u001b[0;34m:\u001b[0m\u001b[0;34m\u001b[0m\u001b[0;34m\u001b[0m\u001b[0m\n\u001b[0;32m--> 440\u001b[0;31m                     \u001b[0mhttplib_response\u001b[0m \u001b[0;34m=\u001b[0m \u001b[0mconn\u001b[0m\u001b[0;34m.\u001b[0m\u001b[0mgetresponse\u001b[0m\u001b[0;34m(\u001b[0m\u001b[0;34m)\u001b[0m\u001b[0;34m\u001b[0m\u001b[0;34m\u001b[0m\u001b[0m\n\u001b[0m\u001b[1;32m    441\u001b[0m                 \u001b[0;32mexcept\u001b[0m \u001b[0mBaseException\u001b[0m \u001b[0;32mas\u001b[0m \u001b[0me\u001b[0m\u001b[0;34m:\u001b[0m\u001b[0;34m\u001b[0m\u001b[0;34m\u001b[0m\u001b[0m\n\u001b[1;32m    442\u001b[0m                     \u001b[0;31m# Remove the TypeError from the exception chain in\u001b[0m\u001b[0;34m\u001b[0m\u001b[0;34m\u001b[0m\u001b[0m\n",
      "\u001b[0;32m~/opt/anaconda3/lib/python3.9/http/client.py\u001b[0m in \u001b[0;36mgetresponse\u001b[0;34m(self)\u001b[0m\n\u001b[1;32m   1369\u001b[0m         \u001b[0;32mtry\u001b[0m\u001b[0;34m:\u001b[0m\u001b[0;34m\u001b[0m\u001b[0;34m\u001b[0m\u001b[0m\n\u001b[1;32m   1370\u001b[0m             \u001b[0;32mtry\u001b[0m\u001b[0;34m:\u001b[0m\u001b[0;34m\u001b[0m\u001b[0;34m\u001b[0m\u001b[0m\n\u001b[0;32m-> 1371\u001b[0;31m                 \u001b[0mresponse\u001b[0m\u001b[0;34m.\u001b[0m\u001b[0mbegin\u001b[0m\u001b[0;34m(\u001b[0m\u001b[0;34m)\u001b[0m\u001b[0;34m\u001b[0m\u001b[0;34m\u001b[0m\u001b[0m\n\u001b[0m\u001b[1;32m   1372\u001b[0m             \u001b[0;32mexcept\u001b[0m \u001b[0mConnectionError\u001b[0m\u001b[0;34m:\u001b[0m\u001b[0;34m\u001b[0m\u001b[0;34m\u001b[0m\u001b[0m\n\u001b[1;32m   1373\u001b[0m                 \u001b[0mself\u001b[0m\u001b[0;34m.\u001b[0m\u001b[0mclose\u001b[0m\u001b[0;34m(\u001b[0m\u001b[0;34m)\u001b[0m\u001b[0;34m\u001b[0m\u001b[0;34m\u001b[0m\u001b[0m\n",
      "\u001b[0;32m~/opt/anaconda3/lib/python3.9/http/client.py\u001b[0m in \u001b[0;36mbegin\u001b[0;34m(self)\u001b[0m\n\u001b[1;32m    317\u001b[0m         \u001b[0;31m# read until we get a non-100 response\u001b[0m\u001b[0;34m\u001b[0m\u001b[0;34m\u001b[0m\u001b[0m\n\u001b[1;32m    318\u001b[0m         \u001b[0;32mwhile\u001b[0m \u001b[0;32mTrue\u001b[0m\u001b[0;34m:\u001b[0m\u001b[0;34m\u001b[0m\u001b[0;34m\u001b[0m\u001b[0m\n\u001b[0;32m--> 319\u001b[0;31m             \u001b[0mversion\u001b[0m\u001b[0;34m,\u001b[0m \u001b[0mstatus\u001b[0m\u001b[0;34m,\u001b[0m \u001b[0mreason\u001b[0m \u001b[0;34m=\u001b[0m \u001b[0mself\u001b[0m\u001b[0;34m.\u001b[0m\u001b[0m_read_status\u001b[0m\u001b[0;34m(\u001b[0m\u001b[0;34m)\u001b[0m\u001b[0;34m\u001b[0m\u001b[0;34m\u001b[0m\u001b[0m\n\u001b[0m\u001b[1;32m    320\u001b[0m             \u001b[0;32mif\u001b[0m \u001b[0mstatus\u001b[0m \u001b[0;34m!=\u001b[0m \u001b[0mCONTINUE\u001b[0m\u001b[0;34m:\u001b[0m\u001b[0;34m\u001b[0m\u001b[0;34m\u001b[0m\u001b[0m\n\u001b[1;32m    321\u001b[0m                 \u001b[0;32mbreak\u001b[0m\u001b[0;34m\u001b[0m\u001b[0;34m\u001b[0m\u001b[0m\n",
      "\u001b[0;32m~/opt/anaconda3/lib/python3.9/http/client.py\u001b[0m in \u001b[0;36m_read_status\u001b[0;34m(self)\u001b[0m\n\u001b[1;32m    278\u001b[0m \u001b[0;34m\u001b[0m\u001b[0m\n\u001b[1;32m    279\u001b[0m     \u001b[0;32mdef\u001b[0m \u001b[0m_read_status\u001b[0m\u001b[0;34m(\u001b[0m\u001b[0mself\u001b[0m\u001b[0;34m)\u001b[0m\u001b[0;34m:\u001b[0m\u001b[0;34m\u001b[0m\u001b[0;34m\u001b[0m\u001b[0m\n\u001b[0;32m--> 280\u001b[0;31m         \u001b[0mline\u001b[0m \u001b[0;34m=\u001b[0m \u001b[0mstr\u001b[0m\u001b[0;34m(\u001b[0m\u001b[0mself\u001b[0m\u001b[0;34m.\u001b[0m\u001b[0mfp\u001b[0m\u001b[0;34m.\u001b[0m\u001b[0mreadline\u001b[0m\u001b[0;34m(\u001b[0m\u001b[0m_MAXLINE\u001b[0m \u001b[0;34m+\u001b[0m \u001b[0;36m1\u001b[0m\u001b[0;34m)\u001b[0m\u001b[0;34m,\u001b[0m \u001b[0;34m\"iso-8859-1\"\u001b[0m\u001b[0;34m)\u001b[0m\u001b[0;34m\u001b[0m\u001b[0;34m\u001b[0m\u001b[0m\n\u001b[0m\u001b[1;32m    281\u001b[0m         \u001b[0;32mif\u001b[0m \u001b[0mlen\u001b[0m\u001b[0;34m(\u001b[0m\u001b[0mline\u001b[0m\u001b[0;34m)\u001b[0m \u001b[0;34m>\u001b[0m \u001b[0m_MAXLINE\u001b[0m\u001b[0;34m:\u001b[0m\u001b[0;34m\u001b[0m\u001b[0;34m\u001b[0m\u001b[0m\n\u001b[1;32m    282\u001b[0m             \u001b[0;32mraise\u001b[0m \u001b[0mLineTooLong\u001b[0m\u001b[0;34m(\u001b[0m\u001b[0;34m\"status line\"\u001b[0m\u001b[0;34m)\u001b[0m\u001b[0;34m\u001b[0m\u001b[0;34m\u001b[0m\u001b[0m\n",
      "\u001b[0;32m~/opt/anaconda3/lib/python3.9/socket.py\u001b[0m in \u001b[0;36mreadinto\u001b[0;34m(self, b)\u001b[0m\n\u001b[1;32m    702\u001b[0m         \u001b[0;32mwhile\u001b[0m \u001b[0;32mTrue\u001b[0m\u001b[0;34m:\u001b[0m\u001b[0;34m\u001b[0m\u001b[0;34m\u001b[0m\u001b[0m\n\u001b[1;32m    703\u001b[0m             \u001b[0;32mtry\u001b[0m\u001b[0;34m:\u001b[0m\u001b[0;34m\u001b[0m\u001b[0;34m\u001b[0m\u001b[0m\n\u001b[0;32m--> 704\u001b[0;31m                 \u001b[0;32mreturn\u001b[0m \u001b[0mself\u001b[0m\u001b[0;34m.\u001b[0m\u001b[0m_sock\u001b[0m\u001b[0;34m.\u001b[0m\u001b[0mrecv_into\u001b[0m\u001b[0;34m(\u001b[0m\u001b[0mb\u001b[0m\u001b[0;34m)\u001b[0m\u001b[0;34m\u001b[0m\u001b[0;34m\u001b[0m\u001b[0m\n\u001b[0m\u001b[1;32m    705\u001b[0m             \u001b[0;32mexcept\u001b[0m \u001b[0mtimeout\u001b[0m\u001b[0;34m:\u001b[0m\u001b[0;34m\u001b[0m\u001b[0;34m\u001b[0m\u001b[0m\n\u001b[1;32m    706\u001b[0m                 \u001b[0mself\u001b[0m\u001b[0;34m.\u001b[0m\u001b[0m_timeout_occurred\u001b[0m \u001b[0;34m=\u001b[0m \u001b[0;32mTrue\u001b[0m\u001b[0;34m\u001b[0m\u001b[0;34m\u001b[0m\u001b[0m\n",
      "\u001b[0;31mKeyboardInterrupt\u001b[0m: "
     ]
    }
   ],
   "source": [
    "soup_state=BeautifulSoup(driver.page_source, 'html.parser')\n",
    "    \n",
    "    # Candidate list\n",
    "data = soup_s tate.find_all('div', {'class':'styles_left-title__rNUfI'})\n",
    "spans = soup_state.find_all('span')\n",
    "text_list=[]\n",
    "        \n",
    "for result in data:\n",
    "    spans = result.find_all('span',class_=False)\n",
    "    for span in spans:\n",
    "        text_list.append(span.text)\n",
    "    text_list   \n",
    "for text in text_list:\n",
    "    if \"%\" not in text:\n",
    "        candidate_ls.append(text) \n",
    "candidate_ls\n",
    "    \n",
    "    # State list\n",
    "for j in range(len(candidate_ls)):\n",
    "    state.append(state_list[j])\n",
    "state\n",
    "    \n",
    "    # State Code list\n",
    "state_code=state_to_abbreviation[state_list[2]]\n",
    "for j in range(len(candidate_ls)):\n",
    "    state_code_ls.append(state_code)\n",
    "state_code_ls\n",
    "    \n",
    "    \n",
    "    # Candidate Name list\n",
    "for j in candidate_ls:\n",
    "    candidate_name_ls.append(j.split(\" (\")[0].replace(\"*\",\"\"))\n",
    "            \n",
    "    # Candidate trial list\n",
    "for j in candidate_s:\n",
    "    candidate_trial_ls=[j.split(\" (\")[0].replace(\"*\",\"\")]\n",
    "            \n",
    "    # district list\n",
    "dem_win_ls=[]\n",
    "dem_win=soup_state.find_all(\"span\",{\"class\":\"styles_highlighted__YhtNx styles_contrast-dem__WYCAC\"})\n",
    "for i in dem_win:\n",
    "    dem_win_ls.append(i.text)\n",
    "    dem_win_ls \n",
    "        \n",
    "gop_win_ls=[]\n",
    "gop_win=soup_state.find_all(\"span\",{\"class\":\"styles_highlighted__YhtNx styles_contrast-gop__2dV83\"})\n",
    "        \n",
    "for i in gop_win:\n",
    "    gop_win_ls.append(i.text)\n",
    "    gop_win_ls\n",
    "        \n",
    "win_ls=gop_win_ls+dem_win_ls\n",
    "win_name_ls=[]\n",
    "for i in win_ls:\n",
    "    win_name_ls.append(i.split(\" (\")[0].replace(\"*\",\"\"))\n",
    "win_name_ls\n",
    "        \n",
    "h=[i in win_name_ls for i in candidate_name_ls]\n",
    "final_ls.append([district_ala[sum(h[:i+1])-1] for i in range(len(candidate_name_ls))])\n",
    "      \n",
    "        \n",
    "    # Party list\n",
    "for j in candidate_ls:\n",
    "    if \"(R\" in j:\n",
    "        party_ls.append(\"Republican\")\n",
    "    elif \"Libertarian Party\" in j:\n",
    "        party_ls.append(\"Libertarian Party\")\n",
    "    elif \"(D\" in j:\n",
    "        party_ls.append(\"Democratic\")\n",
    "    else:\n",
    "        party_ls.append(\"N/A\")\n",
    "party_ls\n",
    "    \n",
    "    # Incumbent list\n",
    "for j in candidate_ls:\n",
    "    if \"*\" in j:\n",
    "        incumbent.append(\"Incumbent\")\n",
    "    else:\n",
    "        incumbent.append(\"/\")\n",
    "    incumbent\n",
    "    \n",
    "    # Vote list\n",
    "vote=soup_state.find_all(\"td\",{\"class\":\"styles_container__MY5SI styles_is-table-standard__hQBdN styles_is-table__r1_IW styles_is-desktop__BnEze\"})\n",
    "for j in vote:\n",
    "        vote_ls.append(j.text)\n",
    "vote_ls\n",
    "    \n",
    "    # Percentage list\n",
    "percentage=soup_state.find_all(\"td\",{\"class\":\"styles_container__vzwvV styles_is-table__HG_oS\"})\n",
    "for j in percentage:\n",
    "    percentage_ls.append(j.text)\n",
    "percentage_ls\n",
    "\n",
    "election=pd.DataFrame({\"State\":state,\"State Code\":state_code_ls,\"District\":final_ls,\"Party\":party_ls,\"Candidate\":candidate_name_ls,\"Incumbent\":incumbent,\"Vote\":vote_ls,\"Pct%\":percentage_ls})\n",
    "election  \n",
    "    "
   ]
  },
  {
   "cell_type": "code",
   "execution_count": null,
   "id": "81647c30",
   "metadata": {},
   "outputs": [],
   "source": []
  }
 ],
 "metadata": {
  "kernelspec": {
   "display_name": "Python 3 (ipykernel)",
   "language": "python",
   "name": "python3"
  },
  "language_info": {
   "codemirror_mode": {
    "name": "ipython",
    "version": 3
   },
   "file_extension": ".py",
   "mimetype": "text/x-python",
   "name": "python",
   "nbconvert_exporter": "python",
   "pygments_lexer": "ipython3",
   "version": "3.9.7"
  }
 },
 "nbformat": 4,
 "nbformat_minor": 5
}
